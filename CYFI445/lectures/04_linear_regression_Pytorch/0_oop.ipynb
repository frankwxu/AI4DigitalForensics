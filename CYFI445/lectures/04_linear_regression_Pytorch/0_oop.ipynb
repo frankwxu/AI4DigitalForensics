{
 "cells": [
  {
   "cell_type": "markdown",
   "metadata": {},
   "source": [
    "# Python Object-Oriented Programming (OOP) Tutorial\n",
    "\n",
    "This tutorial introduces Object-Oriented Programming (OOP) in Python for beginners. We'll cover classes, objects, attributes, methods, and inheritance with simple examples."
   ]
  },
  {
   "cell_type": "markdown",
   "metadata": {},
   "source": [
    "## 1. What is OOP?\n",
    "OOP is a programming paradigm that organizes code into **objects**, which are instances of **classes**. A class is like a blueprint, and an object is a specific instance created from that blueprint."
   ]
  },
  {
   "cell_type": "markdown",
   "metadata": {},
   "source": [
    "## 2. Creating a Class and Object\n",
    "\n",
    "Let's create a simple `Dog` class to represent a dog with a name and age."
   ]
  },
  {
   "cell_type": "code",
   "execution_count": 1,
   "metadata": {},
   "outputs": [
    {
     "name": "stdout",
     "output_type": "stream",
     "text": [
      "Buddy\n",
      "3\n",
      "Buddy says Woof!\n",
      "Luna\n",
      "Luna says Woof!\n"
     ]
    }
   ],
   "source": [
    "# Define the Dog class\n",
    "class Dog:\n",
    "    # Constructor method to initialize attributes\n",
    "    def __init__(self, name, age):\n",
    "        self.name = name  # Instance attribute\n",
    "        self.age = age    # Instance attribute\n",
    "\n",
    "    # Method to make the dog bark\n",
    "    def bark(self):\n",
    "        return f\"{self.name} says Woof!\"\n",
    "\n",
    "# Create objects (instances) of the Dog class\n",
    "dog1 = Dog(\"Buddy\", 3)\n",
    "dog2 = Dog(\"Luna\", 5)\n",
    "\n",
    "# Access attributes and call methods\n",
    "print(dog1.name)         # Output: Buddy\n",
    "print(dog1.age)          # Output: 3\n",
    "print(dog1.bark())       # Output: Buddy says Woof!\n",
    "print(dog2.name)         # Output: Luna\n",
    "print(dog2.bark())       # Output: Luna says Woof!"
   ]
  },
  {
   "cell_type": "markdown",
   "metadata": {},
   "source": [
    "### Explanation:\n",
    "- `class Dog:` defines the class.\n",
    "- `__init__` is the constructor, called when an object is created. It sets the object's initial attributes (`name` and `age`).\n",
    "- `self` refers to the instance of the class.\n",
    "- `bark` is a method that returns a string.\n",
    "- `dog1` and `dog2` are objects created from the `Dog` class."
   ]
  },
  {
   "cell_type": "markdown",
   "metadata": {},
   "source": [
    "## 3. Class Attributes\n",
    "Class attributes are shared by all instances of a class. Let's add a class attribute to track the species."
   ]
  },
  {
   "cell_type": "code",
   "execution_count": 2,
   "metadata": {},
   "outputs": [
    {
     "name": "stdout",
     "output_type": "stream",
     "text": [
      "Canis familiaris\n",
      "Canis familiaris\n"
     ]
    }
   ],
   "source": [
    "class Dog:\n",
    "    # Class attribute\n",
    "    species = \"Canis familiaris\"\n",
    "\n",
    "    def __init__(self, name, age):\n",
    "        self.name = name\n",
    "        self.age = age\n",
    "\n",
    "    def bark(self):\n",
    "        return f\"{self.name} says Woof!\"\n",
    "\n",
    "dog1 = Dog(\"Buddy\", 3)\n",
    "print(dog1.species)  # Output: Canis familiaris\n",
    "print(Dog.species)   # Output: Canis familiaris"
   ]
  },
  {
   "cell_type": "markdown",
   "metadata": {},
   "source": [
    "### Explanation:\n",
    "- `species` is a class attribute, shared by all `Dog` objects.\n",
    "- You can access it via the class (`Dog.species`) or an instance (`dog1.species`)."
   ]
  },
  {
   "cell_type": "markdown",
   "metadata": {},
   "source": [
    "## 4. Inheritance\n",
    "Inheritance allows a class to inherit attributes and methods from another class. Let's create a `Puppy` class that inherits from `Dog`."
   ]
  },
  {
   "cell_type": "code",
   "execution_count": 3,
   "metadata": {},
   "outputs": [
    {
     "name": "stdout",
     "output_type": "stream",
     "text": [
      "Max says Yip!\n",
      "Max is playing!\n",
      "Canis familiaris\n",
      "True\n"
     ]
    }
   ],
   "source": [
    "class Dog:\n",
    "    species = \"Canis familiaris\"\n",
    "\n",
    "    def __init__(self, name, age):\n",
    "        self.name = name\n",
    "        self.age = age\n",
    "\n",
    "    def bark(self):\n",
    "        return f\"{self.name} says Woof!\"\n",
    "\n",
    "# Puppy inherits from Dog\n",
    "class Puppy(Dog):\n",
    "    def __init__(self, name, age, is_cute):\n",
    "        # Call the parent class's __init__\n",
    "        super().__init__(name, age)\n",
    "        self.is_cute = is_cute\n",
    "\n",
    "    # Override the bark method\n",
    "    def bark(self):\n",
    "        return f\"{self.name} says Yip!\"\n",
    "\n",
    "    # New method specific to Puppy\n",
    "    def play(self):\n",
    "        return f\"{self.name} is playing!\"\n",
    "\n",
    "puppy1 = Puppy(\"Max\", 1, True)\n",
    "print(puppy1.bark())      # Output: Max says Yip!\n",
    "print(puppy1.play())      # Output: Max is playing!\n",
    "print(puppy1.species)     # Output: Canis familiaris\n",
    "print(puppy1.is_cute)     # Output: True"
   ]
  },
  {
   "cell_type": "markdown",
   "metadata": {},
   "source": [
    "### Explanation:\n",
    "- `Puppy` inherits from `Dog` using `class Puppy(Dog)`.\n",
    "- `super().__init__(name, age)` calls the parent class's constructor.\n",
    "- The `bark` method is overridden in `Puppy` to say \"Yip!\" instead of \"Woof!\".\n",
    "- `play` is a new method unique to `Puppy`."
   ]
  },
  {
   "cell_type": "markdown",
   "metadata": {},
   "source": [
    "## 5. Practice Exercise\n",
    "Create a `Student` class with:\n",
    "- Instance attributes: `name` and `grade`.\n",
    "- A class attribute: `school = \"High School\"`.\n",
    "- A method `study` that returns `\"[name] is studying!\"`.\n",
    "- Create a `Freshman` class that inherits from `Student` and adds a method `welcome` that returns `\"[name] is a new freshman!\"`."
   ]
  },
  {
   "cell_type": "code",
   "execution_count": 4,
   "metadata": {},
   "outputs": [
    {
     "name": "stdout",
     "output_type": "stream",
     "text": [
      "Alice is studying!\n",
      "Bob is studying!\n",
      "Bob is a new freshman!\n",
      "High School\n"
     ]
    }
   ],
   "source": [
    "class Student:\n",
    "    school = \"High School\"\n",
    "\n",
    "    def __init__(self, name, grade):\n",
    "        self.name = name\n",
    "        self.grade = grade\n",
    "\n",
    "    def study(self):\n",
    "        return f\"{self.name} is studying!\"\n",
    "\n",
    "class Freshman(Student):\n",
    "    def welcome(self):\n",
    "        return f\"{self.name} is a new freshman!\"\n",
    "\n",
    "# Test the classes\n",
    "student1 = Student(\"Alice\", 10)\n",
    "freshman1 = Freshman(\"Bob\", 9)\n",
    "print(student1.study())       # Output: Alice is studying!\n",
    "print(freshman1.study())      # Output: Bob is studying!\n",
    "print(freshman1.welcome())    # Output: Bob is a new freshman!\n",
    "print(freshman1.school)       # Output: High School"
   ]
  },
  {
   "cell_type": "markdown",
   "metadata": {},
   "source": [
    "## 6. Reuse class in a package\n",
    "- Often we need to reuse a class developed by other programmer"
   ]
  },
  {
   "cell_type": "code",
   "execution_count": 5,
   "metadata": {},
   "outputs": [
    {
     "name": "stdout",
     "output_type": "stream",
     "text": [
      "Alice is studying!\n",
      "High School\n"
     ]
    }
   ],
   "source": [
    "import ub\n",
    "student = ub.Student(\"Alice\", 10)\n",
    "print(student.study())  # Output: Alice is studying!\n",
    "print(student.school)   # Output: High School"
   ]
  },
  {
   "cell_type": "markdown",
   "metadata": {},
   "source": [
    "## 7. Key OOP Concepts\n",
    "- **Encapsulation**: Bundling data (attributes) and methods into a class.\n",
    "- **Inheritance**: Allowing a class to inherit from another class.\n",
    "- **Polymorphism**: Allowing different classes to be treated as instances of the same class (e.g., `Puppy` and `Dog` both have `bark` but behave differently).\n",
    "- **Abstraction**: Hiding complex details and showing only necessary features (not covered in this basic tutorial)."
   ]
  },
  {
   "cell_type": "markdown",
   "metadata": {},
   "source": [
    "## 8. Next Steps\n",
    "- Experiment with more complex classes and methods.\n",
    "- Learn about private attributes (using `_` or `__` prefixes).\n",
    "- Explore abstract base classes and polymorphism in Python.\n",
    "\n",
    "This tutorial provides a foundation for understanding OOP in Python. Practice by creating your own classes and experimenting with inheritance!"
   ]
  },
  {
   "cell_type": "markdown",
   "metadata": {},
   "source": []
  }
 ],
 "metadata": {
  "kernelspec": {
   "display_name": "Python 3",
   "language": "python",
   "name": "python3"
  },
  "language_info": {
   "codemirror_mode": {
    "name": "ipython",
    "version": 3
   },
   "file_extension": ".py",
   "mimetype": "text/x-python",
   "name": "python",
   "nbconvert_exporter": "python",
   "pygments_lexer": "ipython3",
   "version": "3.13.2"
  }
 },
 "nbformat": 4,
 "nbformat_minor": 4
}
