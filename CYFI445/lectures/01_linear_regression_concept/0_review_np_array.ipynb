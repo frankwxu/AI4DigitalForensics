{
 "cells": [
  {
   "cell_type": "markdown",
   "id": "62bd4bb3",
   "metadata": {},
   "source": [
    "### Introduction to Numpy array. You can read details \n",
    "https://numpy.org/doc/stable/user/absolute_beginners.html"
   ]
  },
  {
   "cell_type": "markdown",
   "id": "fbe41deb",
   "metadata": {},
   "source": [
    "#### Basic Ptyhon Data Type and Operations"
   ]
  },
  {
   "cell_type": "code",
   "execution_count": 76,
   "id": "323b62e8",
   "metadata": {},
   "outputs": [
    {
     "data": {
      "text/plain": [
       "6"
      ]
     },
     "execution_count": 76,
     "metadata": {},
     "output_type": "execute_result"
    }
   ],
   "source": [
    "2*3"
   ]
  },
  {
   "cell_type": "code",
   "execution_count": 77,
   "id": "6cdd612e",
   "metadata": {},
   "outputs": [
    {
     "data": {
      "text/plain": [
       "8"
      ]
     },
     "execution_count": 77,
     "metadata": {},
     "output_type": "execute_result"
    }
   ],
   "source": [
    "2**3"
   ]
  },
  {
   "cell_type": "code",
   "execution_count": 78,
   "id": "5e7c9a36",
   "metadata": {},
   "outputs": [
    {
     "data": {
      "text/plain": [
       "1"
      ]
     },
     "execution_count": 78,
     "metadata": {},
     "output_type": "execute_result"
    }
   ],
   "source": [
    "10%3"
   ]
  },
  {
   "cell_type": "code",
   "execution_count": 79,
   "id": "c497160d",
   "metadata": {},
   "outputs": [
    {
     "name": "stdout",
     "output_type": "stream",
     "text": [
      "The result of x is: 3.33\n"
     ]
    }
   ],
   "source": [
    "x=10/3\n",
    "print(f\"The result of x is: {x:.2f}\")  "
   ]
  },
  {
   "cell_type": "code",
   "execution_count": 80,
   "id": "e81329e5",
   "metadata": {},
   "outputs": [
    {
     "data": {
      "text/plain": [
       "[1, 2, 3]"
      ]
     },
     "execution_count": 80,
     "metadata": {},
     "output_type": "execute_result"
    }
   ],
   "source": [
    "a=[1,2,3]\n",
    "a"
   ]
  },
  {
   "cell_type": "code",
   "execution_count": 81,
   "id": "0f886f3a",
   "metadata": {},
   "outputs": [
    {
     "data": {
      "text/plain": [
       "1"
      ]
     },
     "execution_count": 81,
     "metadata": {},
     "output_type": "execute_result"
    }
   ],
   "source": [
    "a[0]"
   ]
  },
  {
   "cell_type": "code",
   "execution_count": 82,
   "id": "bd694c5c",
   "metadata": {},
   "outputs": [
    {
     "data": {
      "text/plain": [
       "[1, 2, 3, 4]"
      ]
     },
     "execution_count": 82,
     "metadata": {},
     "output_type": "execute_result"
    }
   ],
   "source": [
    "a.append(4)\n",
    "a"
   ]
  },
  {
   "cell_type": "code",
   "execution_count": 83,
   "id": "f47c854d",
   "metadata": {},
   "outputs": [
    {
     "data": {
      "text/plain": [
       "4"
      ]
     },
     "execution_count": 83,
     "metadata": {},
     "output_type": "execute_result"
    }
   ],
   "source": [
    "a[-1]"
   ]
  },
  {
   "cell_type": "code",
   "execution_count": 84,
   "id": "e2d7b456",
   "metadata": {},
   "outputs": [
    {
     "data": {
      "text/plain": [
       "(1, 2, 3)"
      ]
     },
     "execution_count": 84,
     "metadata": {},
     "output_type": "execute_result"
    }
   ],
   "source": [
    "my_tuple = (1, 2, 3)\n",
    "my_tuple"
   ]
  },
  {
   "cell_type": "code",
   "execution_count": 85,
   "id": "4e37998a",
   "metadata": {},
   "outputs": [
    {
     "data": {
      "text/plain": [
       "1"
      ]
     },
     "execution_count": 85,
     "metadata": {},
     "output_type": "execute_result"
    }
   ],
   "source": [
    "my_tuple[0]"
   ]
  },
  {
   "cell_type": "markdown",
   "id": "71335d81",
   "metadata": {},
   "source": [
    "#### Python list comprehension"
   ]
  },
  {
   "cell_type": "code",
   "execution_count": 86,
   "id": "d9c0f925",
   "metadata": {},
   "outputs": [
    {
     "data": {
      "text/plain": [
       "[1, 4, 9]"
      ]
     },
     "execution_count": 86,
     "metadata": {},
     "output_type": "execute_result"
    }
   ],
   "source": [
    "[x**2 for x in [1, 2, 3]]"
   ]
  },
  {
   "cell_type": "code",
   "execution_count": 87,
   "id": "799c1063",
   "metadata": {},
   "outputs": [
    {
     "data": {
      "text/plain": [
       "[1, 4, 9, 16, 25]"
      ]
     },
     "execution_count": 87,
     "metadata": {},
     "output_type": "execute_result"
    }
   ],
   "source": [
    "squares = [x**2 for x in range(1, 6)] # [1, 6)\n",
    "# Output: [1, 4, 9, 16, 25]\n",
    "squares"
   ]
  },
  {
   "cell_type": "code",
   "execution_count": 88,
   "id": "7a9d00ab",
   "metadata": {},
   "outputs": [
    {
     "data": {
      "text/plain": [
       "[0, 2, 4, 6, 8]"
      ]
     },
     "execution_count": 88,
     "metadata": {},
     "output_type": "execute_result"
    }
   ],
   "source": [
    "evens = [x for x in range(10) if x % 2 == 0]\n",
    "# Output: [0, 2, 4, 6, 8]\n",
    "evens"
   ]
  },
  {
   "cell_type": "code",
   "execution_count": 89,
   "id": "0b3a893b",
   "metadata": {},
   "outputs": [
    {
     "data": {
      "text/plain": [
       "[1, 2]"
      ]
     },
     "execution_count": 89,
     "metadata": {},
     "output_type": "execute_result"
    }
   ],
   "source": [
    "numbers = [-2, -1, 0, 1, 2]\n",
    "positives = [x for x in numbers if x > 0]\n",
    "# Output: [1, 2]\n",
    "positives"
   ]
  },
  {
   "cell_type": "markdown",
   "id": "d618390d",
   "metadata": {},
   "source": [
    "#### Numpy Array fundamentals"
   ]
  },
  {
   "cell_type": "code",
   "execution_count": 90,
   "id": "0df3abc9",
   "metadata": {},
   "outputs": [],
   "source": [
    "import numpy as np"
   ]
  },
  {
   "cell_type": "code",
   "execution_count": 91,
   "id": "2a7a1daf",
   "metadata": {},
   "outputs": [
    {
     "data": {
      "text/plain": [
       "array([1, 2, 3, 4, 5, 6])"
      ]
     },
     "execution_count": 91,
     "metadata": {},
     "output_type": "execute_result"
    }
   ],
   "source": [
    "a = np.array([1, 2, 3, 4, 5, 6])\n",
    "a"
   ]
  },
  {
   "cell_type": "code",
   "execution_count": 92,
   "id": "1f8e61c2",
   "metadata": {},
   "outputs": [
    {
     "data": {
      "text/plain": [
       "np.int64(1)"
      ]
     },
     "execution_count": 92,
     "metadata": {},
     "output_type": "execute_result"
    }
   ],
   "source": [
    "a[0]"
   ]
  },
  {
   "cell_type": "code",
   "execution_count": 93,
   "id": "61e20947",
   "metadata": {},
   "outputs": [],
   "source": [
    "b = np.array([1.0, 2.0, 3, 4], dtype=np.float32)"
   ]
  },
  {
   "cell_type": "code",
   "execution_count": 94,
   "id": "18251de4",
   "metadata": {},
   "outputs": [
    {
     "data": {
      "text/plain": [
       "np.float32(2.0)"
      ]
     },
     "execution_count": 94,
     "metadata": {},
     "output_type": "execute_result"
    }
   ],
   "source": [
    "b[1]"
   ]
  },
  {
   "cell_type": "code",
   "execution_count": 95,
   "id": "11f35a16",
   "metadata": {},
   "outputs": [
    {
     "data": {
      "text/plain": [
       "array([1, 2, 3])"
      ]
     },
     "execution_count": 95,
     "metadata": {},
     "output_type": "execute_result"
    }
   ],
   "source": [
    "a[:3]"
   ]
  },
  {
   "cell_type": "code",
   "execution_count": 96,
   "id": "57ef6d6c",
   "metadata": {},
   "outputs": [
    {
     "data": {
      "text/plain": [
       "array([4, 5, 6])"
      ]
     },
     "execution_count": 96,
     "metadata": {},
     "output_type": "execute_result"
    }
   ],
   "source": [
    "a[3:]"
   ]
  },
  {
   "cell_type": "code",
   "execution_count": 97,
   "id": "db3cc4e7",
   "metadata": {},
   "outputs": [
    {
     "data": {
      "text/plain": [
       "array([[ 1,  2,  3,  4],\n",
       "       [ 5,  6,  7,  8],\n",
       "       [ 9, 10, 11, 12]])"
      ]
     },
     "execution_count": 97,
     "metadata": {},
     "output_type": "execute_result"
    }
   ],
   "source": [
    "a = np.array([[1, 2, 3, 4], [5, 6, 7, 8], [9, 10, 11, 12]])\n",
    "a"
   ]
  },
  {
   "cell_type": "code",
   "execution_count": 98,
   "id": "7ca7a696",
   "metadata": {},
   "outputs": [
    {
     "data": {
      "text/plain": [
       "np.int64(8)"
      ]
     },
     "execution_count": 98,
     "metadata": {},
     "output_type": "execute_result"
    }
   ],
   "source": [
    "a[1, 3]"
   ]
  },
  {
   "cell_type": "markdown",
   "id": "3d2d0b6f",
   "metadata": {},
   "source": [
    "The function calculates the step size as:\n",
    "\n",
    "step = (stop - start) / (num - 1) = (10 - (-10)) / (11 - 1) = 20/10 ≈ 2"
   ]
  },
  {
   "cell_type": "code",
   "execution_count": 99,
   "id": "53d75c62",
   "metadata": {},
   "outputs": [
    {
     "data": {
      "text/plain": [
       "array([-10.,  -8.,  -6.,  -4.,  -2.,   0.,   2.,   4.,   6.,   8.,  10.])"
      ]
     },
     "execution_count": 99,
     "metadata": {},
     "output_type": "execute_result"
    }
   ],
   "source": [
    "# Range of z values\n",
    "# np.linspace(start, stop, num=50, endpoint=True, retstep=False, dtype=None, axis=0)\n",
    "np.linspace(-10, 10, 11)"
   ]
  },
  {
   "cell_type": "markdown",
   "id": "0580eca2",
   "metadata": {},
   "source": [
    "#### Numpy Array attributes\n",
    "This section covers the ndim, shape, size, and dtype attributes of an array.\n",
    "\n",
    "The number of dimensions of an array is contained in the ndim attribute."
   ]
  },
  {
   "cell_type": "code",
   "execution_count": 100,
   "id": "25a9b316",
   "metadata": {},
   "outputs": [
    {
     "name": "stdout",
     "output_type": "stream",
     "text": [
      "1\n",
      "2\n",
      "3\n"
     ]
    }
   ],
   "source": [
    "# 1D array\n",
    "arr1 = np.array([1, 2, 3])\n",
    "print(arr1.ndim)  # Output: 1\n",
    "\n",
    "# 2D array\n",
    "arr2 = np.array([[1, 2], [3, 4]])\n",
    "print(arr2.ndim)  # Output: 2\n",
    "\n",
    "# 3D array\n",
    "arr3 = np.array([[[1, 2], [3, 4]], [[5, 6], [7, 8]]])\n",
    "print(arr3.ndim)  # Output: 3"
   ]
  },
  {
   "cell_type": "markdown",
   "id": "86b8d506",
   "metadata": {},
   "source": [
    "- `ndim = 1` means a 1D array (like a list).\n",
    "- `ndim = 2` means a 2D array (like a matrix).\n",
    "- `ndim = 3` means a 3D array (like a cube of numbers)."
   ]
  },
  {
   "cell_type": "code",
   "execution_count": 101,
   "id": "d86d32ee",
   "metadata": {},
   "outputs": [
    {
     "name": "stdout",
     "output_type": "stream",
     "text": [
      "(3,)\n",
      "(2, 2)\n",
      "(2, 2, 2)\n"
     ]
    }
   ],
   "source": [
    "# 1D array\n",
    "arr1 = np.array([1, 2, 3])\n",
    "print(arr1.shape)  # Output: (3,)\n",
    "\n",
    "# 2D array\n",
    "arr2 = np.array([[1, 2], [3, 4]])\n",
    "print(arr2.shape)  # Output: (2, 2)\n",
    "\n",
    "# 3D array\n",
    "arr3 = np.array([[[1, 2], [3, 4]], [[5, 6], [7, 8]]])\n",
    "print(arr3.shape)  # Output: (2, 2, 2)"
   ]
  },
  {
   "cell_type": "markdown",
   "id": "ec92dd51",
   "metadata": {},
   "source": [
    "- `(3,)` means a 1D array with 3 elements.\n",
    "- `(2, 2)` means a 2D array with 2 rows and 2 columns.\n",
    "- `(2, 2, 2)` means a 3D array with 2 layers, each containing a 2x2 matrix."
   ]
  },
  {
   "cell_type": "markdown",
   "id": "8b3d40d6",
   "metadata": {},
   "source": [
    "#### Key Differences\n",
    "\n",
    "| Aspect            | `ndim`                              | `shape`                             |\n",
    "|-------------------|-------------------------------------|-------------------------------------|\n",
    "| **What It Returns** | Number of dimensions (integer)      | Tuple of sizes for each dimension   |\n",
    "| **Type**          | `int`                               | `tuple`                             |\n",
    "| **Purpose**       | Tells you the \"depth\" of the array  | Describes the full structure (size of each dimension) |\n",
    "| **Example Output** | `2` (for a 2D array)               | `(2, 3)` (for a 2D array with 2 rows, 3 columns) |\n",
    "| **Relation**      | `ndim` is the length of `shape`     | `shape` provides the detailed sizes |"
   ]
  },
  {
   "cell_type": "code",
   "execution_count": 102,
   "id": "ba1d7074",
   "metadata": {},
   "outputs": [
    {
     "data": {
      "text/plain": [
       "True"
      ]
     },
     "execution_count": 102,
     "metadata": {},
     "output_type": "execute_result"
    }
   ],
   "source": [
    "len(a.shape) == a.ndim"
   ]
  },
  {
   "cell_type": "code",
   "execution_count": 103,
   "id": "124e1812",
   "metadata": {},
   "outputs": [
    {
     "data": {
      "text/plain": [
       "4"
      ]
     },
     "execution_count": 103,
     "metadata": {},
     "output_type": "execute_result"
    }
   ],
   "source": [
    "arr = np.array([[1, 2], [3, 4]]) # total number of elements in array\n",
    "arr.size"
   ]
  },
  {
   "cell_type": "code",
   "execution_count": 104,
   "id": "f300cebf",
   "metadata": {},
   "outputs": [
    {
     "data": {
      "text/plain": [
       "3"
      ]
     },
     "execution_count": 104,
     "metadata": {},
     "output_type": "execute_result"
    }
   ],
   "source": [
    "array_example = np.array([[[0, 1, 2, 3],\n",
    "                           [4, 5, 6, 7]],\n",
    "                          [[0, 1, 2, 3],\n",
    "                           [4, 5, 6, 7]],\n",
    "                          [[0 ,1 ,2, 3],\n",
    "                           [4, 5, 6, 7]]])\n",
    "\n",
    "array_example.ndim"
   ]
  },
  {
   "cell_type": "code",
   "execution_count": 105,
   "id": "6e9dceae",
   "metadata": {},
   "outputs": [
    {
     "data": {
      "text/plain": [
       "(3, 2, 4)"
      ]
     },
     "execution_count": 105,
     "metadata": {},
     "output_type": "execute_result"
    }
   ],
   "source": [
    "array_example.shape"
   ]
  },
  {
   "cell_type": "code",
   "execution_count": 106,
   "id": "a5ee181d",
   "metadata": {},
   "outputs": [
    {
     "data": {
      "text/plain": [
       "24"
      ]
     },
     "execution_count": 106,
     "metadata": {},
     "output_type": "execute_result"
    }
   ],
   "source": [
    "array_example.size"
   ]
  },
  {
   "cell_type": "code",
   "execution_count": 107,
   "id": "b251a416",
   "metadata": {},
   "outputs": [
    {
     "data": {
      "text/plain": [
       "dtype('int64')"
      ]
     },
     "execution_count": 107,
     "metadata": {},
     "output_type": "execute_result"
    }
   ],
   "source": [
    "arr = np.array([[1, 2], [3, 4]])\n",
    "arr.dtype\n"
   ]
  },
  {
   "cell_type": "code",
   "execution_count": 108,
   "id": "a043cd1c",
   "metadata": {},
   "outputs": [
    {
     "data": {
      "text/plain": [
       "dtype('float32')"
      ]
     },
     "execution_count": 108,
     "metadata": {},
     "output_type": "execute_result"
    }
   ],
   "source": [
    "arr = np.array([1.0, 2.0, 3, 4], dtype=np.float32)\n",
    "arr.dtype"
   ]
  },
  {
   "cell_type": "markdown",
   "id": "82e33141",
   "metadata": {},
   "source": [
    "#### create a basic array uisng `np.zeros()` , `np.ones()`"
   ]
  },
  {
   "cell_type": "code",
   "execution_count": 109,
   "id": "75b22e31",
   "metadata": {},
   "outputs": [
    {
     "data": {
      "text/plain": [
       "array([0., 0.])"
      ]
     },
     "execution_count": 109,
     "metadata": {},
     "output_type": "execute_result"
    }
   ],
   "source": [
    "np.zeros(2)"
   ]
  },
  {
   "cell_type": "code",
   "execution_count": 110,
   "id": "4b542c1f",
   "metadata": {},
   "outputs": [
    {
     "data": {
      "text/plain": [
       "array([1., 1.])"
      ]
     },
     "execution_count": 110,
     "metadata": {},
     "output_type": "execute_result"
    }
   ],
   "source": [
    "np.ones(2)"
   ]
  },
  {
   "cell_type": "code",
   "execution_count": 111,
   "id": "c22cdd54",
   "metadata": {},
   "outputs": [
    {
     "data": {
      "text/plain": [
       "array([0, 1, 2, 3])"
      ]
     },
     "execution_count": 111,
     "metadata": {},
     "output_type": "execute_result"
    }
   ],
   "source": [
    "np.arange(4)"
   ]
  },
  {
   "cell_type": "code",
   "execution_count": 112,
   "id": "367eacd6",
   "metadata": {},
   "outputs": [
    {
     "data": {
      "text/plain": [
       "array([2, 4, 6, 8])"
      ]
     },
     "execution_count": 112,
     "metadata": {},
     "output_type": "execute_result"
    }
   ],
   "source": [
    "np.arange(2, 9, 2)"
   ]
  },
  {
   "cell_type": "code",
   "execution_count": 113,
   "id": "0fa059e6",
   "metadata": {},
   "outputs": [
    {
     "data": {
      "text/plain": [
       "array([[0.28983984, 0.28097321, 0.00238871, 0.10468329],\n",
       "       [0.63055002, 0.74313965, 0.25371978, 0.41665696],\n",
       "       [0.92790019, 0.99431098, 0.5256084 , 0.60452614]])"
      ]
     },
     "execution_count": 113,
     "metadata": {},
     "output_type": "execute_result"
    }
   ],
   "source": [
    "np.random.rand(3, 4) # random floats between 0 and 1."
   ]
  },
  {
   "cell_type": "code",
   "execution_count": 114,
   "id": "eae03b14",
   "metadata": {},
   "outputs": [
    {
     "data": {
      "text/plain": [
       "array([[10,  7,  1,  6],\n",
       "       [ 7,  5,  6,  1],\n",
       "       [ 5,  7,  8,  5]], dtype=int32)"
      ]
     },
     "execution_count": 114,
     "metadata": {},
     "output_type": "execute_result"
    }
   ],
   "source": [
    "np.random.randint(low=1, high=11, size=(3,4)) # random integers between 1 and 10 (inclusive)"
   ]
  },
  {
   "cell_type": "code",
   "execution_count": 115,
   "id": "86c88e48",
   "metadata": {},
   "outputs": [
    {
     "data": {
      "text/plain": [
       "array([[ 0.03937364, -1.90673202, -0.75857225, -0.26479652],\n",
       "       [ 0.20350195,  0.21107386,  1.2605615 , -0.49659832]])"
      ]
     },
     "execution_count": 115,
     "metadata": {},
     "output_type": "execute_result"
    }
   ],
   "source": [
    "# Generate a 2x4 array with random values from a standard normal distribution\n",
    "# (mean=0, standard deviation=1)\n",
    "np.random.randn(2, 4)"
   ]
  },
  {
   "cell_type": "markdown",
   "id": "30855cde",
   "metadata": {},
   "source": [
    "#### How to convert a 1D array into a 2D array\n",
    "\n",
    "This section covers `np.newaxis`, `np.expand_dims`"
   ]
  },
  {
   "cell_type": "code",
   "execution_count": 116,
   "id": "b26242be",
   "metadata": {},
   "outputs": [
    {
     "data": {
      "text/plain": [
       "(6,)"
      ]
     },
     "execution_count": 116,
     "metadata": {},
     "output_type": "execute_result"
    }
   ],
   "source": [
    "a = np.array([1, 2, 3, 4, 5, 6])\n",
    "a.shape"
   ]
  },
  {
   "cell_type": "code",
   "execution_count": 117,
   "id": "18db087b",
   "metadata": {},
   "outputs": [
    {
     "data": {
      "text/plain": [
       "(1, 6)"
      ]
     },
     "execution_count": 117,
     "metadata": {},
     "output_type": "execute_result"
    }
   ],
   "source": [
    "a2 = a[np.newaxis, :]\n",
    "a2.shape"
   ]
  },
  {
   "cell_type": "code",
   "execution_count": 118,
   "id": "f213bce6",
   "metadata": {},
   "outputs": [
    {
     "data": {
      "text/plain": [
       "array([[1, 2, 3, 4, 5, 6]])"
      ]
     },
     "execution_count": 118,
     "metadata": {},
     "output_type": "execute_result"
    }
   ],
   "source": [
    "a2"
   ]
  },
  {
   "cell_type": "code",
   "execution_count": 119,
   "id": "25c7b822",
   "metadata": {},
   "outputs": [
    {
     "data": {
      "text/plain": [
       "array([[1],\n",
       "       [2],\n",
       "       [3],\n",
       "       [4],\n",
       "       [5],\n",
       "       [6]])"
      ]
     },
     "execution_count": 119,
     "metadata": {},
     "output_type": "execute_result"
    }
   ],
   "source": [
    "np.array([1, 2, 3, 4, 5, 6])[:, np.newaxis]"
   ]
  },
  {
   "cell_type": "code",
   "execution_count": 120,
   "id": "bbd43b79",
   "metadata": {},
   "outputs": [
    {
     "data": {
      "text/plain": [
       "array([[1, 2, 3],\n",
       "       [4, 5, 6]])"
      ]
     },
     "execution_count": 120,
     "metadata": {},
     "output_type": "execute_result"
    }
   ],
   "source": [
    "np.array([1, 2, 3, 4, 5, 6]).reshape(2,3)"
   ]
  },
  {
   "cell_type": "markdown",
   "id": "bec6049f",
   "metadata": {},
   "source": [
    "#### Broadcasting\n",
    "\n",
    "- Broadcasting is NumPy’s mechanism for performing element-wise operations on arrays of different shapes without explicitly reshaping or replicating data. It allows arrays with compatible shapes to be combined by “stretching” their dimensions to match a common shape.\n",
    "- Two dimensions are compatible if:\n",
    "    - They are equal, or\n",
    "    - One of them is 1 (in which case, the array with size 1 is stretched to match the other array’s size in that dimension).\n",
    "- If the arrays have different numbers of dimensions, the array with fewer dimensions is padded with ones on the left until both have the same number of dimensions.\n"
   ]
  },
  {
   "cell_type": "code",
   "execution_count": 121,
   "id": "9af72192",
   "metadata": {},
   "outputs": [
    {
     "data": {
      "text/plain": [
       "array([[2, 3],\n",
       "       [4, 5]])"
      ]
     },
     "execution_count": 121,
     "metadata": {},
     "output_type": "execute_result"
    }
   ],
   "source": [
    "# the same metrix (2,2)* (2,2)\n",
    "d1 = np.array([[1, 2], \n",
    "                [3, 4]])\n",
    "d2 = np.array([[1, 1], \n",
    "                 [1, 1]])\n",
    "d1 + d2"
   ]
  },
  {
   "cell_type": "code",
   "execution_count": 122,
   "id": "4216c512",
   "metadata": {},
   "outputs": [
    {
     "data": {
      "text/plain": [
       "array([[ 2, 12],\n",
       "       [ 4, 14]])"
      ]
     },
     "execution_count": 122,
     "metadata": {},
     "output_type": "execute_result"
    }
   ],
   "source": [
    "# the same array (2,2)* (1,2)\n",
    "d1 = np.array([[1, 2], \n",
    "                 [3, 4]])\n",
    "d2 = np.array([[1, 10]])\n",
    "d1 + d2"
   ]
  },
  {
   "cell_type": "code",
   "execution_count": 123,
   "id": "0eec244e",
   "metadata": {},
   "outputs": [
    {
     "data": {
      "text/plain": [
       "array([[2, 2],\n",
       "       [4, 4],\n",
       "       [6, 6]])"
      ]
     },
     "execution_count": 123,
     "metadata": {},
     "output_type": "execute_result"
    }
   ],
   "source": [
    "# (3,1) + (1,2).  broadcasting both to (3,2)\n",
    "data = np.array([[1], \n",
    "                 [3], \n",
    "                 [5]])\n",
    "ones_row = np.array([[1, 1]]) # copy the fow 3 times\n",
    "data + ones_row"
   ]
  },
  {
   "cell_type": "code",
   "execution_count": 124,
   "id": "bb8d128a",
   "metadata": {},
   "outputs": [
    {
     "data": {
      "text/plain": [
       "array([1.6, 3.2])"
      ]
     },
     "execution_count": 124,
     "metadata": {},
     "output_type": "execute_result"
    }
   ],
   "source": [
    "# With different dimensions \n",
    "# the array with fewer dimensions is padded with ones on the left\n",
    "\n",
    "# (1,2) * (1) => (1,2) * (1, 1) => (1,2) * (1,2)\n",
    "\n",
    "data = np.array([1.0, 2.0])\n",
    "data * 1.6"
   ]
  },
  {
   "cell_type": "code",
   "execution_count": 125,
   "id": "af55cce3",
   "metadata": {},
   "outputs": [
    {
     "data": {
      "text/plain": [
       "array([[ 2,  4,  6],\n",
       "       [ 6, 12, 18],\n",
       "       [10, 20, 30]])"
      ]
     },
     "execution_count": 125,
     "metadata": {},
     "output_type": "execute_result"
    }
   ],
   "source": [
    "# (3,1) * (3) => (3,1) * (1, 3) => (3,3) * (3, 3)\n",
    "d1=np.array([[1], \n",
    "          [3], \n",
    "          [5]])\n",
    "\n",
    "d2=np.array([2,4,6])\n",
    "d1*d2"
   ]
  },
  {
   "cell_type": "markdown",
   "id": "52d5cf93",
   "metadata": {},
   "source": [
    "$$\n",
    "\\begin{bmatrix}\n",
    "1 & 1 & 1 \\\\\n",
    "3 & 3 & 3 \\\\\n",
    "5 & 5 & 5\n",
    "\\end{bmatrix}\n",
    "\\times\n",
    "\\begin{bmatrix}\n",
    "2 & 4 & 6 \\\\\n",
    "2 & 4 & 6 \\\\\n",
    "2 & 4 & 6\n",
    "\\end{bmatrix}\n",
    "=\n",
    "\\begin{bmatrix}\n",
    "1 \\cdot 2 & 1 \\cdot 4 & 1 \\cdot 6 \\\\\n",
    "3 \\cdot 2 & 3 \\cdot 4 & 3 \\cdot 6 \\\\\n",
    "5 \\cdot 2 & 5 \\cdot 4 & 5 \\cdot 6\n",
    "\\end{bmatrix}\n",
    "$$"
   ]
  },
  {
   "cell_type": "markdown",
   "id": "0a26ef4d",
   "metadata": {},
   "source": [
    "#### Stats Operations\n",
    "\n",
    "`max`, `min` , `sum`, `mean`"
   ]
  },
  {
   "cell_type": "code",
   "execution_count": 126,
   "id": "0194c4b4",
   "metadata": {},
   "outputs": [
    {
     "data": {
      "text/plain": [
       "np.int64(1)"
      ]
     },
     "execution_count": 126,
     "metadata": {},
     "output_type": "execute_result"
    }
   ],
   "source": [
    "np.array([[1, 2], \n",
    "          [3, 4], \n",
    "          [5, 6]]).min()"
   ]
  },
  {
   "cell_type": "code",
   "execution_count": 127,
   "id": "5b201131",
   "metadata": {},
   "outputs": [
    {
     "data": {
      "text/plain": [
       "6"
      ]
     },
     "execution_count": 127,
     "metadata": {},
     "output_type": "execute_result"
    }
   ],
   "source": [
    "int(np.array([[1, 2], \n",
    "              [3, 4], \n",
    "              [5, 6]]).max())"
   ]
  },
  {
   "cell_type": "code",
   "execution_count": 128,
   "id": "e73fbd22",
   "metadata": {},
   "outputs": [
    {
     "data": {
      "text/plain": [
       "array([5, 7])"
      ]
     },
     "execution_count": 128,
     "metadata": {},
     "output_type": "execute_result"
    }
   ],
   "source": [
    "data=np.array([[1, 7], \n",
    "               [3, 4], \n",
    "               [5, 6]]).max(axis=0) # collaps rows\n",
    "data"
   ]
  },
  {
   "cell_type": "code",
   "execution_count": 129,
   "id": "01229cfb",
   "metadata": {},
   "outputs": [
    {
     "data": {
      "text/plain": [
       "array([7, 4, 6])"
      ]
     },
     "execution_count": 129,
     "metadata": {},
     "output_type": "execute_result"
    }
   ],
   "source": [
    "data=np.array([[1, 7], \n",
    "               [3, 4], \n",
    "               [5, 6]]).max(axis=1) # collaps columns\n",
    "data"
   ]
  },
  {
   "cell_type": "code",
   "execution_count": 130,
   "id": "fd882d6c",
   "metadata": {},
   "outputs": [
    {
     "data": {
      "text/plain": [
       "np.float64(2.5)"
      ]
     },
     "execution_count": 130,
     "metadata": {},
     "output_type": "execute_result"
    }
   ],
   "source": [
    "np.array([[1, 2], \n",
    "          [3, 4]]).mean()"
   ]
  },
  {
   "cell_type": "code",
   "execution_count": 131,
   "id": "ba88c2f7",
   "metadata": {},
   "outputs": [
    {
     "data": {
      "text/plain": [
       "array([2., 5.])"
      ]
     },
     "execution_count": 131,
     "metadata": {},
     "output_type": "execute_result"
    }
   ],
   "source": [
    "np.array([[1, 2], \n",
    "          [3, 8]]).mean(axis=0) # change (2,2) to (1,2)"
   ]
  },
  {
   "cell_type": "code",
   "execution_count": 132,
   "id": "b49ff53c",
   "metadata": {},
   "outputs": [
    {
     "data": {
      "text/plain": [
       "array([1.5, 5.5])"
      ]
     },
     "execution_count": 132,
     "metadata": {},
     "output_type": "execute_result"
    }
   ],
   "source": [
    "np.array([[1, 2], \n",
    "          [3, 8]]).mean(axis=1) # change (2,2) to (2,1)"
   ]
  },
  {
   "cell_type": "code",
   "execution_count": 133,
   "id": "fa48f9a5",
   "metadata": {},
   "outputs": [
    {
     "data": {
      "text/plain": [
       "array([1.5, 3.5])"
      ]
     },
     "execution_count": 133,
     "metadata": {},
     "output_type": "execute_result"
    }
   ],
   "source": [
    "data = np.array([[1, 2], \n",
    "          [3, 4]])\n",
    "np.mean(data,axis=1)"
   ]
  },
  {
   "cell_type": "code",
   "execution_count": 134,
   "id": "3ee7e4c9",
   "metadata": {},
   "outputs": [
    {
     "data": {
      "text/plain": [
       "np.int64(5)"
      ]
     },
     "execution_count": 134,
     "metadata": {},
     "output_type": "execute_result"
    }
   ],
   "source": [
    "# Example array\n",
    "array = np.array([[4, 1, 3],\n",
    "                  [2, 15, 0]])\n",
    "\n",
    "# Find index of minimum value in the entire array (flattened)\n",
    "min_index_flat = np.argmin(array)\n",
    "min_index_flat"
   ]
  },
  {
   "cell_type": "markdown",
   "id": "ce8c5dca",
   "metadata": {},
   "source": [
    "### matplotlib\n",
    "- scatter - draw dots\n",
    "- plot - draw lines"
   ]
  },
  {
   "cell_type": "code",
   "execution_count": 135,
   "id": "6d37c412",
   "metadata": {},
   "outputs": [
    {
     "data": {
      "image/png": "[encoded data removed]",
      "text/plain": [
       "<Figure size 640x480 with 1 Axes>"
      ]
     },
     "metadata": {},
     "output_type": "display_data"
    }
   ],
   "source": [
    "import matplotlib.pyplot as plt\n",
    "\n",
    "# Sample Python list\n",
    "X= np.array([0, 1, 2, 3, 4, 5], dtype=np.float32)\n",
    "Y = np.array([0, 1, 4, 9, 16, 25], dtype=np.float32)\n",
    "\n",
    "# Create dots\n",
    "plt.scatter(X, Y, color='red')  # draw data points\n",
    "\n",
    "# Add labels and title\n",
    "plt.xlabel('X Axis')\n",
    "plt.ylabel('Y Axis')\n",
    "plt.title('Simple Scatter Plot')\n",
    "\n",
    "# Show the plot\n",
    "plt.show()\n"
   ]
  },
  {
   "cell_type": "code",
   "execution_count": 137,
   "id": "b0a7a95f",
   "metadata": {},
   "outputs": [
    {
     "data": {
      "image/png": "[encoded data removed]",
      "text/plain": [
       "<Figure size 640x480 with 1 Axes>"
      ]
     },
     "metadata": {},
     "output_type": "display_data"
    }
   ],
   "source": [
    "# y=x**2\n",
    "X = np.array([0, 1, 2, 3, 4, 5, 6], dtype=np.float32)\n",
    "Y = X**2\n",
    "\n",
    "# Create the plot\n",
    "plt.plot(X, Y)\n",
    "\n",
    "# Add labels and title\n",
    "plt.xlabel('X Axis')\n",
    "plt.ylabel('Y Axis')\n",
    "plt.title('Simple Line Plot with np.array')\n",
    "\n",
    "# Show the plot\n",
    "plt.show()"
   ]
  },
  {
   "cell_type": "code",
   "execution_count": null,
   "id": "713cbe61",
   "metadata": {},
   "outputs": [
    {
     "data": {
      "image/png": "[encoded data removed]",
      "text/plain": [
       "<Figure size 640x480 with 1 Axes>"
      ]
     },
     "metadata": {},
     "output_type": "display_data"
    }
   ],
   "source": [
    "# y=x**2\n",
    "X = np.array([0, 1, 2, 3, 4, 5], dtype=np.float32)\n",
    "Y = X**2\n",
    "\n",
    "# Create the plot\n",
    "plt.plot(X, Y, 'r--', label='y = x**2 ')\n",
    "\n",
    "# Add labels and title\n",
    "plt.xlabel('X Axis')\n",
    "plt.ylabel('Y Axis')\n",
    "plt.title('Simple Line Plot with a dashed line')\n",
    "\n",
    "# Show the plot\n",
    "plt.show()"
   ]
  },
  {
   "cell_type": "markdown",
   "id": "da2adfda",
   "metadata": {},
   "source": [
    "##### Add grid and legend (label)\n",
    "- need to set grid and legend before calling `plot.show()` "
   ]
  },
  {
   "cell_type": "code",
   "execution_count": null,
   "id": "0ef952bd",
   "metadata": {},
   "outputs": [
    {
     "data": {
      "image/png": "[encoded data removed]",
      "text/plain": [
       "<Figure size 640x480 with 1 Axes>"
      ]
     },
     "metadata": {},
     "output_type": "display_data"
    }
   ],
   "source": [
    "# y=x**2\n",
    "X = np.array([0, 1, 2, 3, 4, 5], dtype=np.float32)\n",
    "Y = X**2\n",
    "\n",
    "# Create the plot\n",
    "plt.plot(X, Y, 'r--', label='y = x**2 ')\n",
    "\n",
    "# Add labels and title\n",
    "plt.xlabel('X Axis')\n",
    "plt.ylabel('Y Axis')\n",
    "plt.title('Simple Line Plot with a dashed line')\n",
    "\n",
    "# Add grid and legend\n",
    "plt.grid(True, linestyle='--', alpha=0.7)\n",
    "plt.legend()\n",
    "\n",
    "# Show the plot\n",
    "plt.show()"
   ]
  },
  {
   "cell_type": "markdown",
   "id": "e4fc923d",
   "metadata": {},
   "source": [
    "#### Function: \n",
    "- A block of code that runs only when called. \n",
    "- It can take inputs (parameters), process them, and return an output"
   ]
  },
  {
   "cell_type": "code",
   "execution_count": null,
   "id": "5afe68f8",
   "metadata": {},
   "outputs": [
    {
     "name": "stdout",
     "output_type": "stream",
     "text": [
      "35\n"
     ]
    }
   ],
   "source": [
    "def calculate_square(number, offset):\n",
    "    result = number ** 2 + offset\n",
    "    return result\n",
    "\n",
    "# Call the function\n",
    "result = calculate_square(5, 10)\n",
    "print(result)"
   ]
  },
  {
   "cell_type": "markdown",
   "id": "aa2313a9",
   "metadata": {},
   "source": [
    "##### Function with Multiple Array Inputs\n",
    "- Create a function that takes two NumPy arrays and returns their element-wise sum."
   ]
  },
  {
   "cell_type": "code",
   "execution_count": null,
   "id": "a1c381ad",
   "metadata": {},
   "outputs": [
    {
     "name": "stdout",
     "output_type": "stream",
     "text": [
      "[5 7 9]\n"
     ]
    }
   ],
   "source": [
    "def add_arrays(arr1, arr2):\n",
    "    return arr1 + arr2\n",
    "\n",
    "# Input: Two NumPy arrays\n",
    "array1 = np.array([1, 2, 3])\n",
    "array2 = np.array([4, 5, 6])\n",
    "\n",
    "# Call the function\n",
    "result = add_arrays(array1, array2)\n",
    "print(result)"
   ]
  },
  {
   "cell_type": "markdown",
   "id": "ce21149e",
   "metadata": {},
   "source": [
    "##### Function with Default Parameters\n",
    "- Create a function that normalizes a NumPy array (subtracts the mean) with an optional scaling factor."
   ]
  },
  {
   "cell_type": "code",
   "execution_count": null,
   "id": "5085fc72",
   "metadata": {},
   "outputs": [
    {
     "name": "stdout",
     "output_type": "stream",
     "text": [
      "[-15.  -5.   5.  15.]\n",
      "[-30. -10.  10.  30.]\n"
     ]
    }
   ],
   "source": [
    "import numpy as np\n",
    "\n",
    "def normalize_array(arr, scale=1.0):\n",
    "    return (arr - np.mean(arr)) * scale\n",
    "\n",
    "# Input: NumPy array\n",
    "input_array = np.array([10, 20, 30, 40])\n",
    "\n",
    "# Call the function\n",
    "result = normalize_array(input_array)  # Default scale\n",
    "print(result)\n",
    "result_scaled = normalize_array(input_array, scale=2.0)  # Custom scale\n",
    "print(result_scaled)"
   ]
  },
  {
   "cell_type": "markdown",
   "id": "0a55f80b",
   "metadata": {},
   "source": [
    "##### Function Returning Multiple Arrays\n",
    "- Create a function that takes a NumPy array and returns two arrays: the original scaled by 2 and its square."
   ]
  },
  {
   "cell_type": "code",
   "execution_count": null,
   "id": "37870aa6",
   "metadata": {},
   "outputs": [
    {
     "name": "stdout",
     "output_type": "stream",
     "text": [
      "Scaled: [2 4 6]\n",
      "Squared: [1 4 9]\n"
     ]
    }
   ],
   "source": [
    "def transform_array(arr):\n",
    "    scaled = arr * 2\n",
    "    squared = arr ** 2\n",
    "    return scaled, squared\n",
    "\n",
    "# Input: NumPy array\n",
    "input_array = np.array([1, 2, 3])\n",
    "\n",
    "# Call the function\n",
    "scaled_array, squared_array = transform_array(input_array)\n",
    "print(\"Scaled:\", scaled_array)\n",
    "print(\"Squared:\", squared_array)"
   ]
  },
  {
   "cell_type": "code",
   "execution_count": null,
   "id": "bb7dbb9e",
   "metadata": {},
   "outputs": [],
   "source": []
  }
 ],
 "metadata": {
  "kernelspec": {
   "display_name": "Python 3",
   "language": "python",
   "name": "python3"
  },
  "language_info": {
   "codemirror_mode": {
    "name": "ipython",
    "version": 3
   },
   "file_extension": ".py",
   "mimetype": "text/x-python",
   "name": "python",
   "nbconvert_exporter": "python",
   "pygments_lexer": "ipython3",
   "version": "3.13.2"
  }
 },
 "nbformat": 4,
 "nbformat_minor": 5
}
