{
 "cells": [
  {
   "cell_type": "markdown",
   "id": "87585727",
   "metadata": {},
   "source": [
    "## Confusion matrix metrics for binary classification in PyTorch"
   ]
  },
  {
   "cell_type": "markdown",
   "id": "4add68ec",
   "metadata": {},
   "source": [
    "### 1. Binary Confusion Matrix Calculation"
   ]
  },
  {
   "cell_type": "code",
   "execution_count": 46,
   "id": "8db4add7",
   "metadata": {},
   "outputs": [],
   "source": [
    "import torch\n",
    "\n",
    "def get_binary_confusion_matrix(y_true, y_pred):\n",
    "    TP = ((y_true == 1) & (y_pred == 1)).sum().item()\n",
    "    TN = ((y_true == 0) & (y_pred == 0)).sum().item()\n",
    "    FP = ((y_true == 0) & (y_pred == 1)).sum().item()\n",
    "    FN = ((y_true == 1) & (y_pred == 0)).sum().item()\n",
    "\n",
    "    return TP, TN, FP, FN\n"
   ]
  },
  {
   "cell_type": "markdown",
   "id": "98cbb299",
   "metadata": {},
   "source": [
    "### 2. Binary Metrics Calculation"
   ]
  },
  {
   "cell_type": "code",
   "execution_count": 47,
   "id": "d346ba5c",
   "metadata": {},
   "outputs": [],
   "source": [
    "def compute_binary_metrics(TP, TN, FP, FN):\n",
    "    accuracy = (TP + TN) / (TP + TN + FP + FN + 1e-8)\n",
    "    precision = TP / (TP + FP + 1e-8)\n",
    "    recall = TP / (TP + FN + 1e-8)\n",
    "    f1 = 2 * precision * recall / (precision + recall + 1e-8)\n",
    "\n",
    "    return {\n",
    "        'accuracy': accuracy,\n",
    "        'precision': precision,\n",
    "        'recall': recall,\n",
    "        'f1': f1\n",
    "    }\n"
   ]
  },
  {
   "cell_type": "markdown",
   "id": "d1ce8331",
   "metadata": {},
   "source": [
    "### 3. Example Usage"
   ]
  },
  {
   "cell_type": "code",
   "execution_count": 48,
   "id": "0c0b8e8e",
   "metadata": {},
   "outputs": [
    {
     "name": "stdout",
     "output_type": "stream",
     "text": [
      "Confusion Matrix:\n",
      "TP=4, TN=4, FP=1, FN=1\n",
      "Metrics: {'accuracy': 0.7999999992, 'precision': 0.7999999984, 'recall': 0.7999999984, 'f1': 0.7999999934}\n"
     ]
    }
   ],
   "source": [
    "# Example binary predictions (0 or 1)\n",
    "y_true = torch.tensor([1, 1, 1, 1, 1, 0, 0, 0, 0, 0])\n",
    "y_pred = torch.tensor([1, 1, 1, 1, 0, 0, 0, 0, 0, 1])\n",
    "\n",
    "TP, TN, FP, FN = get_binary_confusion_matrix(y_true, y_pred)\n",
    "metrics = compute_binary_metrics(TP, TN, FP, FN)\n",
    "\n",
    "print(\"Confusion Matrix:\")\n",
    "print(f\"TP={TP}, TN={TN}, FP={FP}, FN={FN}\")\n",
    "print(\"Metrics:\", metrics)\n"
   ]
  },
  {
   "cell_type": "markdown",
   "id": "9d687a14",
   "metadata": {},
   "source": [
    "### 4. Use sklearn.metrics"
   ]
  },
  {
   "cell_type": "code",
   "execution_count": 49,
   "id": "b0aeda3d",
   "metadata": {},
   "outputs": [
    {
     "name": "stdout",
     "output_type": "stream",
     "text": [
      "[[4 1]\n",
      " [1 4]]\n"
     ]
    }
   ],
   "source": [
    "from sklearn.metrics import confusion_matrix\n",
    "\n",
    "y_true = [1, 1, 1, 1, 1, 0, 0, 0, 0, 0]\n",
    "y_pred = [1, 1, 1, 1, 0, 0, 0, 0, 0, 1]\n",
    "\n",
    "cm = confusion_matrix(y_true, y_pred)\n",
    "print(cm)\n"
   ]
  },
  {
   "cell_type": "code",
   "execution_count": 50,
   "id": "738b8db5",
   "metadata": {},
   "outputs": [
    {
     "name": "stdout",
     "output_type": "stream",
     "text": [
      "Precision: 0.8\n",
      "Recall: 0.8\n"
     ]
    }
   ],
   "source": [
    "from sklearn.metrics import precision_score, recall_score\n",
    "\n",
    "y_true = [1, 1, 1, 1, 1, 0, 0, 0, 0, 0]\n",
    "y_pred = [1, 1, 1, 1, 0, 0, 0, 0, 0, 1]\n",
    "\n",
    "precision = precision_score(y_true, y_pred)\n",
    "recall = recall_score(y_true, y_pred)\n",
    "\n",
    "print(\"Precision:\", precision)\n",
    "print(\"Recall:\", recall)\n"
   ]
  },
  {
   "cell_type": "code",
   "execution_count": 51,
   "id": "cd857229",
   "metadata": {},
   "outputs": [
    {
     "name": "stdout",
     "output_type": "stream",
     "text": [
      "F1 Score: 0.8\n"
     ]
    }
   ],
   "source": [
    "from sklearn.metrics import f1_score\n",
    "\n",
    "y_true = [1, 1, 1, 1, 1, 0, 0, 0, 0, 0]\n",
    "y_pred = [1, 1, 1, 1, 0, 0, 0, 0, 0, 1]\n",
    "\n",
    "f1 = f1_score(y_true, y_pred)\n",
    "print(\"F1 Score:\", f1)\n"
   ]
  },
  {
   "cell_type": "code",
   "execution_count": 52,
   "id": "ba41a021",
   "metadata": {},
   "outputs": [
    {
     "data": {
      "image/png": "[encoded data removed]",
      "text/plain": [
       "<Figure size 640x480 with 2 Axes>"
      ]
     },
     "metadata": {},
     "output_type": "display_data"
    }
   ],
   "source": [
    "import matplotlib.pyplot as plt\n",
    "from sklearn.metrics import ConfusionMatrixDisplay\n",
    "\n",
    "disp = ConfusionMatrixDisplay.from_predictions(\n",
    "    y_true, y_pred, display_labels=['Positive', 'Negtive'], cmap='Blues'\n",
    ")\n",
    "plt.show()\n"
   ]
  },
  {
   "cell_type": "markdown",
   "id": "74e76178",
   "metadata": {},
   "source": [
    "## Breast cancer with F1 scores"
   ]
  },
  {
   "cell_type": "code",
   "execution_count": 53,
   "id": "53af081c",
   "metadata": {},
   "outputs": [
    {
     "name": "stdout",
     "output_type": "stream",
     "text": [
      "Training model...\n",
      "Epoch [10/100], Loss: 0.6216\n",
      "Epoch [20/100], Loss: 0.5017\n",
      "Epoch [30/100], Loss: 0.4293\n",
      "Epoch [40/100], Loss: 0.3805\n",
      "Epoch [50/100], Loss: 0.3452\n",
      "Epoch [60/100], Loss: 0.3181\n",
      "Epoch [70/100], Loss: 0.2966\n",
      "Epoch [80/100], Loss: 0.2789\n",
      "Epoch [90/100], Loss: 0.2641\n",
      "Epoch [100/100], Loss: 0.2515\n",
      "\n",
      "Test Accuracy: 0.9035\n",
      "\n",
      "Calculating additional metrics...\n",
      "\n",
      "Confusion Matrix:\n",
      "TP: 65, TN: 38, FP: 7, FN: 4\n",
      "Precision: 0.9028\n",
      "Recall: 0.9420\n",
      "F1 Score: 0.9220\n"
     ]
    }
   ],
   "source": [
    "import torch\n",
    "import torch.nn as nn\n",
    "import numpy as np\n",
    "from sklearn.datasets import load_breast_cancer\n",
    "from sklearn.preprocessing import StandardScaler\n",
    "from sklearn.model_selection import train_test_split\n",
    "\n",
    "def prepare_data():\n",
    "    \"\"\"Load and preprocess breast cancer dataset.\"\"\"\n",
    "    # Load dataset\n",
    "    data = load_breast_cancer()\n",
    "    X, y = data.data, data.target\n",
    "    \n",
    "    # Split dataset\n",
    "    X_train, X_test, y_train, y_test = train_test_split(\n",
    "        X, y, test_size=0.2, random_state=1234\n",
    "    )\n",
    "    \n",
    "    # Scale features\n",
    "    scaler = StandardScaler()\n",
    "    X_train = scaler.fit_transform(X_train)\n",
    "    X_test = scaler.transform(X_test)\n",
    "    \n",
    "    # Convert to PyTorch tensors\n",
    "    X_train = torch.from_numpy(X_train.astype(np.float32))\n",
    "    X_test = torch.from_numpy(X_test.astype(np.float32))\n",
    "    y_train = torch.from_numpy(y_train.astype(np.float32)).view(-1, 1)\n",
    "    y_test = torch.from_numpy(y_test.astype(np.float32)).view(-1, 1)\n",
    "    \n",
    "    return X_train, X_test, y_train, y_test\n",
    "\n",
    "class BinaryClassifier(nn.Module):\n",
    "    \"\"\"Simple neural network for binary classification.\"\"\"\n",
    "    def __init__(self, input_features):\n",
    "        super(BinaryClassifier, self).__init__()\n",
    "        self.linear = nn.Linear(input_features, 1)\n",
    "    \n",
    "    def forward(self, x):\n",
    "        return torch.sigmoid(self.linear(x))\n",
    "\n",
    "def train_model(model, X_train, y_train, num_epochs=100, learning_rate=0.01):\n",
    "    \"\"\"Train the model with given parameters.\"\"\"\n",
    "    criterion = nn.BCELoss()\n",
    "    optimizer = torch.optim.SGD(model.parameters(), lr=learning_rate)\n",
    "    \n",
    "    for epoch in range(num_epochs):\n",
    "        # Forward pass\n",
    "        y_pred = model(X_train)\n",
    "        loss = criterion(y_pred, y_train)\n",
    "        \n",
    "        # Backward pass and optimization\n",
    "        optimizer.zero_grad()\n",
    "        loss.backward()\n",
    "        optimizer.step()\n",
    "        \n",
    "        # Log progress\n",
    "        if (epoch + 1) % 10 == 0:\n",
    "            print(f'Epoch [{epoch+1}/{num_epochs}], Loss: {loss.item():.4f}')\n",
    "\n",
    "def evaluate_model(model, X_test, y_test):\n",
    "    \"\"\"Evaluate model performance on test set.\"\"\"\n",
    "    with torch.no_grad():\n",
    "        y_pred = model(X_test)\n",
    "        y_pred_classes = y_pred.round()\n",
    "        accuracy = y_pred_classes.eq(y_test).sum() / float(y_test.shape[0])\n",
    "        return accuracy.item()\n",
    "\n",
    "def calculate_metrics(model, X_test, y_test):\n",
    "    \"\"\"Calculate confusion matrix and F1 score for test set.\"\"\"\n",
    "    with torch.no_grad():\n",
    "        # Get predictions\n",
    "        y_pred = model(X_test)\n",
    "        y_pred_classes = y_pred.round().squeeze()  # Convert to binary (0 or 1)\n",
    "        y_true = y_test.squeeze()  # True labels\n",
    "        \n",
    "        # Calculate confusion matrix\n",
    "        TP = torch.sum((y_pred_classes == 1) & (y_true == 1)).item()\n",
    "        TN = torch.sum((y_pred_classes == 0) & (y_true == 0)).item()\n",
    "        FP = torch.sum((y_pred_classes == 1) & (y_true == 0)).item()\n",
    "        FN = torch.sum((y_pred_classes == 0) & (y_true == 1)).item()\n",
    "        \n",
    "        # Calculate precision, recall, and F1 score\n",
    "        precision = TP / (TP + FP) if (TP + FP) > 0 else 0\n",
    "        recall = TP / (TP + FN) if (TP + FN) > 0 else 0\n",
    "        f1 = 2 * (precision * recall) / (precision + recall) if (precision + recall) > 0 else 0\n",
    "        \n",
    "        # Print results\n",
    "        print(\"\\nConfusion Matrix:\")\n",
    "        print(f\"TP: {TP}, TN: {TN}, FP: {FP}, FN: {FN}\")\n",
    "        print(f\"Precision: {precision:.4f}\")\n",
    "        print(f\"Recall: {recall:.4f}\")\n",
    "        print(f\"F1 Score: {f1:.4f}\")\n",
    "        \n",
    "        return TP, TN, FP, FN, f1\n",
    "\n",
    "def main():\n",
    "    # Prepare data\n",
    "    X_train, X_test, y_train, y_test = prepare_data()\n",
    "    \n",
    "    # Initialize model\n",
    "    n_features = X_train.shape[1]\n",
    "    model = BinaryClassifier(n_features)\n",
    "    \n",
    "    # Train model\n",
    "    print(\"Training model...\")\n",
    "    train_model(model, X_train, y_train)\n",
    "    \n",
    "    # Evaluate model\n",
    "    accuracy = evaluate_model(model, X_test, y_test)\n",
    "    print(f'\\nTest Accuracy: {accuracy:.4f}')\n",
    "    \n",
    "    # Calculate additional metrics\n",
    "    print(\"\\nCalculating additional metrics...\")\n",
    "    calculate_metrics(model, X_test, y_test)\n",
    "\n",
    "if __name__ == \"__main__\":\n",
    "    main()"
   ]
  },
  {
   "cell_type": "markdown",
   "id": "58ae6a68",
   "metadata": {},
   "source": [
    "## Homework: replace Breast cancer conusioin matrix and F1 scores with sklean.metrcs"
   ]
  }
 ],
 "metadata": {
  "kernelspec": {
   "display_name": "Python 3",
   "language": "python",
   "name": "python3"
  },
  "language_info": {
   "codemirror_mode": {
    "name": "ipython",
    "version": 3
   },
   "file_extension": ".py",
   "mimetype": "text/x-python",
   "name": "python",
   "nbconvert_exporter": "python",
   "pygments_lexer": "ipython3",
   "version": "3.13.2"
  }
 },
 "nbformat": 4,
 "nbformat_minor": 5
}
