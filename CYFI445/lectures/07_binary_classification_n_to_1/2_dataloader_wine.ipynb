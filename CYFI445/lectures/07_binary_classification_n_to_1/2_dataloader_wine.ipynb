{
 "cells": [
  {
   "cell_type": "code",
   "execution_count": 4,
   "id": "52950b67",
   "metadata": {},
   "outputs": [
    {
     "name": "stdout",
     "output_type": "stream",
     "text": [
      "First sample - Features: tensor([1.4230e+01, 1.7100e+00, 2.4300e+00, 1.5600e+01, 1.2700e+02, 2.8000e+00,\n",
      "        3.0600e+00, 2.8000e-01, 2.2900e+00, 5.6400e+00, 1.0400e+00, 3.9200e+00,\n",
      "        1.0650e+03]), Label: tensor([1.])\n"
     ]
    }
   ],
   "source": [
    "import torch\n",
    "import torchvision\n",
    "from torch.utils.data import Dataset, DataLoader\n",
    "import numpy as np\n",
    "import math\n",
    "\n",
    "# Custom Dataset class for Wine dataset\n",
    "class WineDataset(Dataset):\n",
    "    def __init__(self, data_path='data/wine.csv'):\n",
    "        \"\"\"\n",
    "        Initialize the dataset by loading wine data from a CSV file.\n",
    "        \n",
    "        Args:\n",
    "            data_path (str): Path to the wine CSV file\n",
    "        \"\"\"\n",
    "        # Load data from CSV, skipping header row\n",
    "        xy = np.loadtxt(data_path, delimiter=',', dtype=np.float32, skiprows=1)\n",
    "        self.n_samples = xy.shape[0]\n",
    "        \n",
    "        # Split into features (all columns except first) and labels (first column)\n",
    "        self.x_data = torch.from_numpy(xy[:, 1:])  # Shape: [n_samples, n_features]\n",
    "        self.y_data = torch.from_numpy(xy[:, [0]]) # Shape: [n_samples, 1]\n",
    "\n",
    "    def __getitem__(self, index):\n",
    "        \"\"\"\n",
    "        Enable indexing to retrieve a specific sample.\n",
    "        \n",
    "        Args:\n",
    "            index (int): Index of the sample to retrieve\n",
    "            \n",
    "        Returns:\n",
    "            tuple: (features, label) for the specified index\n",
    "        \"\"\"\n",
    "        return self.x_data[index], self.y_data[index]\n",
    "\n",
    "    def __len__(self):\n",
    "        \"\"\"\n",
    "        Return the total number of samples in the dataset.\n",
    "        \n",
    "        Returns:\n",
    "            int: Number of samples\n",
    "        \"\"\"\n",
    "        return self.n_samples\n",
    "\n",
    "# Create dataset instance\n",
    "dataset = WineDataset()\n",
    "\n",
    "# Access and print first sample\n",
    "features, labels = dataset[0]\n",
    "print(f\"First sample - Features: {features}, Label: {labels}\")\n",
    "\n"
   ]
  },
  {
   "cell_type": "code",
   "execution_count": 5,
   "id": "5448f749",
   "metadata": {},
   "outputs": [
    {
     "name": "stdout",
     "output_type": "stream",
     "text": [
      "Sample batch - Features: torch.Size([4, 13]), Labels: torch.Size([4, 1])\n"
     ]
    }
   ],
   "source": [
    "\"\"\"\n",
    "Create a DataLoader for the wine dataset.\n",
    "\n",
    "Args:\n",
    "    dataset (Dataset): The dataset to load\n",
    "    batch_size (int): Number of samples per batch\n",
    "    shuffle (bool): Whether to shuffle the data\n",
    "    num_workers (int): Number of subprocesses for data loading\n",
    "    \n",
    "Returns:\n",
    "    DataLoader: Configured DataLoader instance\n",
    "\"\"\"\n",
    "train_loader = DataLoader(dataset, batch_size=4, shuffle=True, num_workers=0)\n",
    "\n",
    "# Examine one batch\n",
    "dataiter = iter(train_loader)\n",
    "features, labels = next(dataiter)\n",
    "print(f\"Sample batch - Features: {features.shape}, Labels: {labels.shape}\")"
   ]
  },
  {
   "cell_type": "code",
   "execution_count": 6,
   "id": "0e122c46",
   "metadata": {},
   "outputs": [
    {
     "name": "stdout",
     "output_type": "stream",
     "text": [
      "Total samples: 178, Iterations per epoch: 45\n",
      "Epoch: 1/2, Step 5/45 | Inputs torch.Size([4, 13]) | Labels torch.Size([4, 1])\n",
      "Epoch: 1/2, Step 10/45 | Inputs torch.Size([4, 13]) | Labels torch.Size([4, 1])\n",
      "Epoch: 1/2, Step 15/45 | Inputs torch.Size([4, 13]) | Labels torch.Size([4, 1])\n",
      "Epoch: 1/2, Step 20/45 | Inputs torch.Size([4, 13]) | Labels torch.Size([4, 1])\n",
      "Epoch: 1/2, Step 25/45 | Inputs torch.Size([4, 13]) | Labels torch.Size([4, 1])\n",
      "Epoch: 1/2, Step 30/45 | Inputs torch.Size([4, 13]) | Labels torch.Size([4, 1])\n",
      "Epoch: 1/2, Step 35/45 | Inputs torch.Size([4, 13]) | Labels torch.Size([4, 1])\n",
      "Epoch: 1/2, Step 40/45 | Inputs torch.Size([4, 13]) | Labels torch.Size([4, 1])\n",
      "Epoch: 1/2, Step 45/45 | Inputs torch.Size([2, 13]) | Labels torch.Size([2, 1])\n",
      "Epoch: 2/2, Step 5/45 | Inputs torch.Size([4, 13]) | Labels torch.Size([4, 1])\n",
      "Epoch: 2/2, Step 10/45 | Inputs torch.Size([4, 13]) | Labels torch.Size([4, 1])\n",
      "Epoch: 2/2, Step 15/45 | Inputs torch.Size([4, 13]) | Labels torch.Size([4, 1])\n",
      "Epoch: 2/2, Step 20/45 | Inputs torch.Size([4, 13]) | Labels torch.Size([4, 1])\n",
      "Epoch: 2/2, Step 25/45 | Inputs torch.Size([4, 13]) | Labels torch.Size([4, 1])\n",
      "Epoch: 2/2, Step 30/45 | Inputs torch.Size([4, 13]) | Labels torch.Size([4, 1])\n",
      "Epoch: 2/2, Step 35/45 | Inputs torch.Size([4, 13]) | Labels torch.Size([4, 1])\n",
      "Epoch: 2/2, Step 40/45 | Inputs torch.Size([4, 13]) | Labels torch.Size([4, 1])\n",
      "Epoch: 2/2, Step 45/45 | Inputs torch.Size([2, 13]) | Labels torch.Size([2, 1])\n"
     ]
    }
   ],
   "source": [
    "# Training loop parameters\n",
    "num_epochs = 2\n",
    "total_samples = len(dataset)\n",
    "n_iterations = math.ceil(total_samples / 4)\n",
    "print(f\"Total samples: {total_samples}, Iterations per epoch: {n_iterations}\")\n",
    "\n",
    "# Dummy training loop\n",
    "for epoch in range(num_epochs):\n",
    "    for i, (inputs, labels) in enumerate(train_loader):\n",
    "        # Training step\n",
    "        if (i + 1) % 5 == 0:\n",
    "            print(f'Epoch: {epoch+1}/{num_epochs}, Step {i+1}/{n_iterations} | '\n",
    "                    f'Inputs {inputs.shape} | Labels {labels.shape}')"
   ]
  },
  {
   "cell_type": "code",
   "execution_count": 7,
   "id": "37095d28",
   "metadata": {},
   "outputs": [
    {
     "name": "stdout",
     "output_type": "stream",
     "text": [
      "MNIST batch - Inputs: torch.Size([3, 1, 28, 28]), Targets: torch.Size([3])\n"
     ]
    }
   ],
   "source": [
    "# Example with MNIST dataset\n",
    "train_dataset = torchvision.datasets.MNIST(root='./data',\n",
    "                                            train=True,\n",
    "                                            transform=torchvision.transforms.ToTensor(),\n",
    "                                            download=True)\n",
    "\n",
    "mnist_loader = DataLoader(dataset=train_dataset,\n",
    "                            batch_size=3,\n",
    "                            shuffle=True)\n",
    "\n",
    "# Examine MNIST batch\n",
    "dataiter = iter(mnist_loader)\n",
    "inputs, targets = next(dataiter)\n",
    "print(f\"MNIST batch - Inputs: {inputs.shape}, Targets: {targets.shape}\")"
   ]
  }
 ],
 "metadata": {
  "kernelspec": {
   "display_name": "Python 3",
   "language": "python",
   "name": "python3"
  },
  "language_info": {
   "codemirror_mode": {
    "name": "ipython",
    "version": 3
   },
   "file_extension": ".py",
   "mimetype": "text/x-python",
   "name": "python",
   "nbconvert_exporter": "python",
   "pygments_lexer": "ipython3",
   "version": "3.13.2"
  }
 },
 "nbformat": 4,
 "nbformat_minor": 5
}
