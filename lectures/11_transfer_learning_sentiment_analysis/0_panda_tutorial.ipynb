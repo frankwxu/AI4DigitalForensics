{
 "cells": [
  {
   "cell_type": "code",
   "execution_count": 2,
   "id": "f25c7795",
   "metadata": {},
   "outputs": [
    {
     "data": {
      "text/html": [
       "<div>\n",
       "<style scoped>\n",
       "    .dataframe tbody tr th:only-of-type {\n",
       "        vertical-align: middle;\n",
       "    }\n",
       "\n",
       "    .dataframe tbody tr th {\n",
       "        vertical-align: top;\n",
       "    }\n",
       "\n",
       "    .dataframe thead th {\n",
       "        text-align: right;\n",
       "    }\n",
       "</style>\n",
       "<table border=\"1\" class=\"dataframe\">\n",
       "  <thead>\n",
       "    <tr style=\"text-align: right;\">\n",
       "      <th></th>\n",
       "      <th>id</th>\n",
       "      <th>phrase</th>\n",
       "      <th>sentiment</th>\n",
       "    </tr>\n",
       "  </thead>\n",
       "  <tbody>\n",
       "    <tr>\n",
       "      <th>0</th>\n",
       "      <td>1</td>\n",
       "      <td>The Matrix is great, revolutionary sci-fi that...</td>\n",
       "      <td>positive</td>\n",
       "    </tr>\n",
       "    <tr>\n",
       "      <th>1</th>\n",
       "      <td>2</td>\n",
       "      <td>Terrible movie, The Matrix’s plot is so confus...</td>\n",
       "      <td>negative</td>\n",
       "    </tr>\n",
       "    <tr>\n",
       "      <th>2</th>\n",
       "      <td>3</td>\n",
       "      <td>The Matrix was okay, entertaining but not life...</td>\n",
       "      <td>neutral</td>\n",
       "    </tr>\n",
       "    <tr>\n",
       "      <th>3</th>\n",
       "      <td>4</td>\n",
       "      <td>Great visuals and action in The Matrix make it...</td>\n",
       "      <td>positive</td>\n",
       "    </tr>\n",
       "    <tr>\n",
       "      <th>4</th>\n",
       "      <td>5</td>\n",
       "      <td>Hated The Matrix; terrible pacing and a story ...</td>\n",
       "      <td>negative</td>\n",
       "    </tr>\n",
       "  </tbody>\n",
       "</table>\n",
       "</div>"
      ],
      "text/plain": [
       "   id                                             phrase sentiment\n",
       "0   1  The Matrix is great, revolutionary sci-fi that...  positive\n",
       "1   2  Terrible movie, The Matrix’s plot is so confus...  negative\n",
       "2   3  The Matrix was okay, entertaining but not life...   neutral\n",
       "3   4  Great visuals and action in The Matrix make it...  positive\n",
       "4   5  Hated The Matrix; terrible pacing and a story ...  negative"
      ]
     },
     "execution_count": 2,
     "metadata": {},
     "output_type": "execute_result"
    }
   ],
   "source": [
    "# 📌 Step 1: Import pandas\n",
    "# Pandas is a powerful library for data analysis and manipulation.\n",
    "import pandas as pd\n",
    "\n",
    "# 📌 Step 2: Load the CSV file\n",
    "# Make sure the CSV file is in the same directory as this notebook.\n",
    "# If your file has no header row, you can use: pd.read_csv('filename.csv', header=None)\n",
    "df = pd.read_csv(\"matrix_reviews.csv\")\n",
    "\n",
    "# 📌 Step 3: Display the first few rows\n",
    "# This helps you preview the data and verify that it loaded correctly.\n",
    "df.head()\n"
   ]
  },
  {
   "cell_type": "code",
   "execution_count": 14,
   "id": "cf32b9de",
   "metadata": {},
   "outputs": [
    {
     "data": {
      "text/html": [
       "<div>\n",
       "<style scoped>\n",
       "    .dataframe tbody tr th:only-of-type {\n",
       "        vertical-align: middle;\n",
       "    }\n",
       "\n",
       "    .dataframe tbody tr th {\n",
       "        vertical-align: top;\n",
       "    }\n",
       "\n",
       "    .dataframe thead th {\n",
       "        text-align: right;\n",
       "    }\n",
       "</style>\n",
       "<table border=\"1\" class=\"dataframe\">\n",
       "  <thead>\n",
       "    <tr style=\"text-align: right;\">\n",
       "      <th></th>\n",
       "      <th>id</th>\n",
       "      <th>phrase</th>\n",
       "      <th>sentiment</th>\n",
       "      <th>phrase_length</th>\n",
       "    </tr>\n",
       "  </thead>\n",
       "  <tbody>\n",
       "    <tr>\n",
       "      <th>0</th>\n",
       "      <td>1</td>\n",
       "      <td>The Matrix is great, revolutionary sci-fi that...</td>\n",
       "      <td>positive</td>\n",
       "      <td>81</td>\n",
       "    </tr>\n",
       "    <tr>\n",
       "      <th>1</th>\n",
       "      <td>2</td>\n",
       "      <td>Terrible movie, The Matrix’s plot is so confus...</td>\n",
       "      <td>negative</td>\n",
       "      <td>78</td>\n",
       "    </tr>\n",
       "    <tr>\n",
       "      <th>2</th>\n",
       "      <td>3</td>\n",
       "      <td>The Matrix was okay, entertaining but not life...</td>\n",
       "      <td>neutral</td>\n",
       "      <td>64</td>\n",
       "    </tr>\n",
       "    <tr>\n",
       "      <th>3</th>\n",
       "      <td>4</td>\n",
       "      <td>Great visuals and action in The Matrix make it...</td>\n",
       "      <td>positive</td>\n",
       "      <td>75</td>\n",
       "    </tr>\n",
       "    <tr>\n",
       "      <th>4</th>\n",
       "      <td>5</td>\n",
       "      <td>Hated The Matrix; terrible pacing and a story ...</td>\n",
       "      <td>negative</td>\n",
       "      <td>74</td>\n",
       "    </tr>\n",
       "    <tr>\n",
       "      <th>5</th>\n",
       "      <td>6</td>\n",
       "      <td>The Matrix is awesome, with mind-bending conce...</td>\n",
       "      <td>positive</td>\n",
       "      <td>77</td>\n",
       "    </tr>\n",
       "    <tr>\n",
       "      <th>6</th>\n",
       "      <td>7</td>\n",
       "      <td>Terrible acting in The Matrix makes it hard to...</td>\n",
       "      <td>negative</td>\n",
       "      <td>68</td>\n",
       "    </tr>\n",
       "    <tr>\n",
       "      <th>7</th>\n",
       "      <td>8</td>\n",
       "      <td>Watched The Matrix, it’s decent but overhyped....</td>\n",
       "      <td>neutral</td>\n",
       "      <td>52</td>\n",
       "    </tr>\n",
       "    <tr>\n",
       "      <th>8</th>\n",
       "      <td>9</td>\n",
       "      <td>Great story, The Matrix blends philosophy and ...</td>\n",
       "      <td>positive</td>\n",
       "      <td>74</td>\n",
       "    </tr>\n",
       "    <tr>\n",
       "      <th>9</th>\n",
       "      <td>10</td>\n",
       "      <td>The Matrix is terrible, too complex and preten...</td>\n",
       "      <td>negative</td>\n",
       "      <td>76</td>\n",
       "    </tr>\n",
       "  </tbody>\n",
       "</table>\n",
       "</div>"
      ],
      "text/plain": [
       "   id                                             phrase sentiment  \\\n",
       "0   1  The Matrix is great, revolutionary sci-fi that...  positive   \n",
       "1   2  Terrible movie, The Matrix’s plot is so confus...  negative   \n",
       "2   3  The Matrix was okay, entertaining but not life...   neutral   \n",
       "3   4  Great visuals and action in The Matrix make it...  positive   \n",
       "4   5  Hated The Matrix; terrible pacing and a story ...  negative   \n",
       "5   6  The Matrix is awesome, with mind-bending conce...  positive   \n",
       "6   7  Terrible acting in The Matrix makes it hard to...  negative   \n",
       "7   8  Watched The Matrix, it’s decent but overhyped....   neutral   \n",
       "8   9  Great story, The Matrix blends philosophy and ...  positive   \n",
       "9  10  The Matrix is terrible, too complex and preten...  negative   \n",
       "\n",
       "   phrase_length  \n",
       "0             81  \n",
       "1             78  \n",
       "2             64  \n",
       "3             75  \n",
       "4             74  \n",
       "5             77  \n",
       "6             68  \n",
       "7             52  \n",
       "8             74  \n",
       "9             76  "
      ]
     },
     "execution_count": 14,
     "metadata": {},
     "output_type": "execute_result"
    }
   ],
   "source": [
    "df[:10]"
   ]
  },
  {
   "cell_type": "code",
   "execution_count": 29,
   "id": "7495b1df",
   "metadata": {},
   "outputs": [
    {
     "data": {
      "text/plain": [
       "pandas.core.frame.DataFrame"
      ]
     },
     "execution_count": 29,
     "metadata": {},
     "output_type": "execute_result"
    }
   ],
   "source": [
    "type(df[:10])"
   ]
  },
  {
   "cell_type": "code",
   "execution_count": 25,
   "id": "6d9d5eb1",
   "metadata": {},
   "outputs": [
    {
     "data": {
      "text/plain": [
       "0    The Matrix is great, revolutionary sci-fi that...\n",
       "1    Terrible movie, The Matrix’s plot is so confus...\n",
       "2    The Matrix was okay, entertaining but not life...\n",
       "3    Great visuals and action in The Matrix make it...\n",
       "4    Hated The Matrix; terrible pacing and a story ...\n",
       "Name: phrase, dtype: object"
      ]
     },
     "execution_count": 25,
     "metadata": {},
     "output_type": "execute_result"
    }
   ],
   "source": [
    "df[:5]['phrase']"
   ]
  },
  {
   "cell_type": "code",
   "execution_count": 33,
   "id": "1d5fb3da",
   "metadata": {},
   "outputs": [
    {
     "data": {
      "text/plain": [
       "0    81\n",
       "1    78\n",
       "2    64\n",
       "3    75\n",
       "4    74\n",
       "Name: phrase, dtype: int64"
      ]
     },
     "execution_count": 33,
     "metadata": {},
     "output_type": "execute_result"
    }
   ],
   "source": [
    "df[:5]['phrase'].str.len()"
   ]
  },
  {
   "cell_type": "code",
   "execution_count": 26,
   "id": "79546d50",
   "metadata": {},
   "outputs": [
    {
     "data": {
      "text/plain": [
       "['The Matrix is great, revolutionary sci-fi that redefined action films! #mindblown',\n",
       " 'Terrible movie, The Matrix’s plot is so confusing and overrated. #disappointed',\n",
       " 'The Matrix was okay, entertaining but not life-changing. #movies',\n",
       " 'Great visuals and action in The Matrix make it a must-watch classic. #scifi',\n",
       " 'Hated The Matrix; terrible pacing and a story that drags on forever. #fail']"
      ]
     },
     "execution_count": 26,
     "metadata": {},
     "output_type": "execute_result"
    }
   ],
   "source": [
    "df[:5]['phrase'].tolist()"
   ]
  },
  {
   "cell_type": "code",
   "execution_count": 4,
   "id": "0500eaed",
   "metadata": {},
   "outputs": [
    {
     "name": "stdout",
     "output_type": "stream",
     "text": [
      "<class 'pandas.core.frame.DataFrame'>\n",
      "RangeIndex: 50 entries, 0 to 49\n",
      "Data columns (total 3 columns):\n",
      " #   Column     Non-Null Count  Dtype \n",
      "---  ------     --------------  ----- \n",
      " 0   id         50 non-null     int64 \n",
      " 1   phrase     50 non-null     object\n",
      " 2   sentiment  50 non-null     object\n",
      "dtypes: int64(1), object(2)\n",
      "memory usage: 1.3+ KB\n"
     ]
    }
   ],
   "source": [
    "# 📌 Step 4: Basic information about the dataset\n",
    "# Useful for checking column names, data types, and missing values.\n",
    "df.info()\n"
   ]
  },
  {
   "cell_type": "code",
   "execution_count": 5,
   "id": "19e5db8c",
   "metadata": {},
   "outputs": [
    {
     "data": {
      "text/plain": [
       "id           0\n",
       "phrase       0\n",
       "sentiment    0\n",
       "dtype: int64"
      ]
     },
     "execution_count": 5,
     "metadata": {},
     "output_type": "execute_result"
    }
   ],
   "source": [
    "# 📌 Step 5: Check for missing values\n",
    "# It's always good practice to check for missing or null data.\n",
    "df.isnull().sum()\n"
   ]
  },
  {
   "cell_type": "code",
   "execution_count": 6,
   "id": "a00e0504",
   "metadata": {},
   "outputs": [
    {
     "data": {
      "text/plain": [
       "sentiment\n",
       "positive    20\n",
       "negative    20\n",
       "neutral     10\n",
       "Name: count, dtype: int64"
      ]
     },
     "execution_count": 6,
     "metadata": {},
     "output_type": "execute_result"
    }
   ],
   "source": [
    "# 📌 Step 6: Get basic statistics\n",
    "# For numerical columns, describe() gives count, mean, std, min, etc.\n",
    "# For categorical data, use value_counts().\n",
    "df.describe()\n",
    "df['sentiment'].value_counts()\n"
   ]
  },
  {
   "cell_type": "code",
   "execution_count": 28,
   "id": "cd2e8c90",
   "metadata": {},
   "outputs": [
    {
     "data": {
      "text/plain": [
       "0    1\n",
       "1    0\n",
       "2    2\n",
       "3    1\n",
       "4    0\n",
       "5    1\n",
       "6    0\n",
       "7    2\n",
       "8    1\n",
       "9    0\n",
       "Name: sentiment, dtype: int64"
      ]
     },
     "execution_count": 28,
     "metadata": {},
     "output_type": "execute_result"
    }
   ],
   "source": [
    "df[:10]['sentiment'].map({'positive': 1, 'negative': 0, 'neutral': 2})"
   ]
  },
  {
   "cell_type": "code",
   "execution_count": 31,
   "id": "be78d597",
   "metadata": {},
   "outputs": [
    {
     "data": {
      "text/plain": [
       "pandas.core.series.Series"
      ]
     },
     "execution_count": 31,
     "metadata": {},
     "output_type": "execute_result"
    }
   ],
   "source": [
    "s=df[:10]['sentiment'].map({'positive': 1, 'negative': 0, 'neutral': 2})\n",
    "type(s)"
   ]
  },
  {
   "cell_type": "code",
   "execution_count": 32,
   "id": "b1487b2c",
   "metadata": {},
   "outputs": [
    {
     "data": {
      "text/plain": [
       "[1, 0, 2, 1, 0, 1, 0, 2, 1, 0]"
      ]
     },
     "execution_count": 32,
     "metadata": {},
     "output_type": "execute_result"
    }
   ],
   "source": [
    "s.tolist()"
   ]
  },
  {
   "cell_type": "code",
   "execution_count": 7,
   "id": "5210796b",
   "metadata": {},
   "outputs": [
    {
     "data": {
      "image/png": "[encoded data removed]",
      "text/plain": [
       "<Figure size 640x480 with 1 Axes>"
      ]
     },
     "metadata": {},
     "output_type": "display_data"
    }
   ],
   "source": [
    "# 📌 Step 7: Visualize sentiment distribution\n",
    "# We can use matplotlib or seaborn to create simple plots.\n",
    "import matplotlib.pyplot as plt\n",
    "\n",
    "# Count the number of positive, negative, and neutral sentiments\n",
    "sentiment_counts = df['sentiment'].value_counts()\n",
    "\n",
    "# Create a bar chart\n",
    "sentiment_counts.plot(kind='bar', color=['green', 'red', 'gray'])\n",
    "plt.title(\"Sentiment Distribution in The Matrix Reviews\")\n",
    "plt.xlabel(\"Sentiment\")\n",
    "plt.ylabel(\"Number of Reviews\")\n",
    "plt.xticks(rotation=0)\n",
    "plt.grid(axis='y', linestyle='--', alpha=0.7)\n",
    "plt.show()\n"
   ]
  },
  {
   "cell_type": "code",
   "execution_count": 8,
   "id": "2dba08a4",
   "metadata": {},
   "outputs": [
    {
     "data": {
      "text/html": [
       "<div>\n",
       "<style scoped>\n",
       "    .dataframe tbody tr th:only-of-type {\n",
       "        vertical-align: middle;\n",
       "    }\n",
       "\n",
       "    .dataframe tbody tr th {\n",
       "        vertical-align: top;\n",
       "    }\n",
       "\n",
       "    .dataframe thead th {\n",
       "        text-align: right;\n",
       "    }\n",
       "</style>\n",
       "<table border=\"1\" class=\"dataframe\">\n",
       "  <thead>\n",
       "    <tr style=\"text-align: right;\">\n",
       "      <th></th>\n",
       "      <th>id</th>\n",
       "      <th>phrase</th>\n",
       "      <th>sentiment</th>\n",
       "    </tr>\n",
       "  </thead>\n",
       "  <tbody>\n",
       "    <tr>\n",
       "      <th>0</th>\n",
       "      <td>1</td>\n",
       "      <td>The Matrix is great, revolutionary sci-fi that...</td>\n",
       "      <td>positive</td>\n",
       "    </tr>\n",
       "    <tr>\n",
       "      <th>3</th>\n",
       "      <td>4</td>\n",
       "      <td>Great visuals and action in The Matrix make it...</td>\n",
       "      <td>positive</td>\n",
       "    </tr>\n",
       "    <tr>\n",
       "      <th>5</th>\n",
       "      <td>6</td>\n",
       "      <td>The Matrix is awesome, with mind-bending conce...</td>\n",
       "      <td>positive</td>\n",
       "    </tr>\n",
       "    <tr>\n",
       "      <th>8</th>\n",
       "      <td>9</td>\n",
       "      <td>Great story, The Matrix blends philosophy and ...</td>\n",
       "      <td>positive</td>\n",
       "    </tr>\n",
       "    <tr>\n",
       "      <th>10</th>\n",
       "      <td>11</td>\n",
       "      <td>The Matrix has great effects, a sci-fi masterp...</td>\n",
       "      <td>positive</td>\n",
       "    </tr>\n",
       "    <tr>\n",
       "      <th>13</th>\n",
       "      <td>14</td>\n",
       "      <td>Great cast, The Matrix delivers iconic perform...</td>\n",
       "      <td>positive</td>\n",
       "    </tr>\n",
       "    <tr>\n",
       "      <th>15</th>\n",
       "      <td>16</td>\n",
       "      <td>The Matrix is great, a visionary film that’s s...</td>\n",
       "      <td>positive</td>\n",
       "    </tr>\n",
       "    <tr>\n",
       "      <th>18</th>\n",
       "      <td>19</td>\n",
       "      <td>Great action sequences in The Matrix keep you ...</td>\n",
       "      <td>positive</td>\n",
       "    </tr>\n",
       "    <tr>\n",
       "      <th>20</th>\n",
       "      <td>21</td>\n",
       "      <td>The Matrix is awesome, groundbreaking and unfo...</td>\n",
       "      <td>positive</td>\n",
       "    </tr>\n",
       "    <tr>\n",
       "      <th>23</th>\n",
       "      <td>24</td>\n",
       "      <td>Great visuals, The Matrix sets the bar for sci...</td>\n",
       "      <td>positive</td>\n",
       "    </tr>\n",
       "    <tr>\n",
       "      <th>25</th>\n",
       "      <td>26</td>\n",
       "      <td>The Matrix is great, innovative and thrilling ...</td>\n",
       "      <td>positive</td>\n",
       "    </tr>\n",
       "    <tr>\n",
       "      <th>28</th>\n",
       "      <td>29</td>\n",
       "      <td>Great concept, The Matrix is a bold sci-fi adv...</td>\n",
       "      <td>positive</td>\n",
       "    </tr>\n",
       "    <tr>\n",
       "      <th>30</th>\n",
       "      <td>31</td>\n",
       "      <td>The Matrix is awesome, a perfect mix of action...</td>\n",
       "      <td>positive</td>\n",
       "    </tr>\n",
       "    <tr>\n",
       "      <th>33</th>\n",
       "      <td>34</td>\n",
       "      <td>Great fight scenes, The Matrix is pure adrenal...</td>\n",
       "      <td>positive</td>\n",
       "    </tr>\n",
       "    <tr>\n",
       "      <th>35</th>\n",
       "      <td>36</td>\n",
       "      <td>The Matrix is great, a cultural phenomenon wit...</td>\n",
       "      <td>positive</td>\n",
       "    </tr>\n",
       "    <tr>\n",
       "      <th>38</th>\n",
       "      <td>39</td>\n",
       "      <td>Great direction, The Matrix is a sci-fi game-c...</td>\n",
       "      <td>positive</td>\n",
       "    </tr>\n",
       "    <tr>\n",
       "      <th>40</th>\n",
       "      <td>41</td>\n",
       "      <td>The Matrix is awesome, iconic and thrilling! #...</td>\n",
       "      <td>positive</td>\n",
       "    </tr>\n",
       "    <tr>\n",
       "      <th>43</th>\n",
       "      <td>44</td>\n",
       "      <td>Great performances, The Matrix is a sci-fi tri...</td>\n",
       "      <td>positive</td>\n",
       "    </tr>\n",
       "    <tr>\n",
       "      <th>45</th>\n",
       "      <td>46</td>\n",
       "      <td>The Matrix is great, a visionary masterpiece! ...</td>\n",
       "      <td>positive</td>\n",
       "    </tr>\n",
       "    <tr>\n",
       "      <th>48</th>\n",
       "      <td>49</td>\n",
       "      <td>The review is positive</td>\n",
       "      <td>positive</td>\n",
       "    </tr>\n",
       "  </tbody>\n",
       "</table>\n",
       "</div>"
      ],
      "text/plain": [
       "    id                                             phrase sentiment\n",
       "0    1  The Matrix is great, revolutionary sci-fi that...  positive\n",
       "3    4  Great visuals and action in The Matrix make it...  positive\n",
       "5    6  The Matrix is awesome, with mind-bending conce...  positive\n",
       "8    9  Great story, The Matrix blends philosophy and ...  positive\n",
       "10  11  The Matrix has great effects, a sci-fi masterp...  positive\n",
       "13  14  Great cast, The Matrix delivers iconic perform...  positive\n",
       "15  16  The Matrix is great, a visionary film that’s s...  positive\n",
       "18  19  Great action sequences in The Matrix keep you ...  positive\n",
       "20  21  The Matrix is awesome, groundbreaking and unfo...  positive\n",
       "23  24  Great visuals, The Matrix sets the bar for sci...  positive\n",
       "25  26  The Matrix is great, innovative and thrilling ...  positive\n",
       "28  29  Great concept, The Matrix is a bold sci-fi adv...  positive\n",
       "30  31  The Matrix is awesome, a perfect mix of action...  positive\n",
       "33  34  Great fight scenes, The Matrix is pure adrenal...  positive\n",
       "35  36  The Matrix is great, a cultural phenomenon wit...  positive\n",
       "38  39  Great direction, The Matrix is a sci-fi game-c...  positive\n",
       "40  41  The Matrix is awesome, iconic and thrilling! #...  positive\n",
       "43  44  Great performances, The Matrix is a sci-fi tri...  positive\n",
       "45  46  The Matrix is great, a visionary masterpiece! ...  positive\n",
       "48  49                             The review is positive  positive"
      ]
     },
     "execution_count": 8,
     "metadata": {},
     "output_type": "execute_result"
    }
   ],
   "source": [
    "# 📌 Step 8: Filter reviews by sentiment\n",
    "# Let’s find only positive reviews.\n",
    "positive_reviews = df[df['sentiment'] == 'positive']\n",
    "positive_reviews\n"
   ]
  },
  {
   "cell_type": "code",
   "execution_count": 16,
   "id": "b06490ae",
   "metadata": {},
   "outputs": [
    {
     "data": {
      "text/html": [
       "<div>\n",
       "<style scoped>\n",
       "    .dataframe tbody tr th:only-of-type {\n",
       "        vertical-align: middle;\n",
       "    }\n",
       "\n",
       "    .dataframe tbody tr th {\n",
       "        vertical-align: top;\n",
       "    }\n",
       "\n",
       "    .dataframe thead th {\n",
       "        text-align: right;\n",
       "    }\n",
       "</style>\n",
       "<table border=\"1\" class=\"dataframe\">\n",
       "  <thead>\n",
       "    <tr style=\"text-align: right;\">\n",
       "      <th></th>\n",
       "      <th>id</th>\n",
       "      <th>phrase</th>\n",
       "      <th>sentiment</th>\n",
       "      <th>phrase_length</th>\n",
       "    </tr>\n",
       "  </thead>\n",
       "  <tbody>\n",
       "    <tr>\n",
       "      <th>0</th>\n",
       "      <td>1</td>\n",
       "      <td>The Matrix is great, revolutionary sci-fi that...</td>\n",
       "      <td>positive</td>\n",
       "      <td>81</td>\n",
       "    </tr>\n",
       "    <tr>\n",
       "      <th>1</th>\n",
       "      <td>2</td>\n",
       "      <td>Terrible movie, The Matrix’s plot is so confus...</td>\n",
       "      <td>negative</td>\n",
       "      <td>78</td>\n",
       "    </tr>\n",
       "    <tr>\n",
       "      <th>2</th>\n",
       "      <td>3</td>\n",
       "      <td>The Matrix was okay, entertaining but not life...</td>\n",
       "      <td>neutral</td>\n",
       "      <td>64</td>\n",
       "    </tr>\n",
       "    <tr>\n",
       "      <th>3</th>\n",
       "      <td>4</td>\n",
       "      <td>Great visuals and action in The Matrix make it...</td>\n",
       "      <td>positive</td>\n",
       "      <td>75</td>\n",
       "    </tr>\n",
       "    <tr>\n",
       "      <th>4</th>\n",
       "      <td>5</td>\n",
       "      <td>Hated The Matrix; terrible pacing and a story ...</td>\n",
       "      <td>negative</td>\n",
       "      <td>74</td>\n",
       "    </tr>\n",
       "  </tbody>\n",
       "</table>\n",
       "</div>"
      ],
      "text/plain": [
       "   id                                             phrase sentiment  \\\n",
       "0   1  The Matrix is great, revolutionary sci-fi that...  positive   \n",
       "1   2  Terrible movie, The Matrix’s plot is so confus...  negative   \n",
       "2   3  The Matrix was okay, entertaining but not life...   neutral   \n",
       "3   4  Great visuals and action in The Matrix make it...  positive   \n",
       "4   5  Hated The Matrix; terrible pacing and a story ...  negative   \n",
       "\n",
       "   phrase_length  \n",
       "0             81  \n",
       "1             78  \n",
       "2             64  \n",
       "3             75  \n",
       "4             74  "
      ]
     },
     "execution_count": 16,
     "metadata": {},
     "output_type": "execute_result"
    }
   ],
   "source": [
    "df[df['id'] <= 5]"
   ]
  },
  {
   "cell_type": "code",
   "execution_count": 9,
   "id": "8b2496bf",
   "metadata": {},
   "outputs": [
    {
     "data": {
      "text/html": [
       "<div>\n",
       "<style scoped>\n",
       "    .dataframe tbody tr th:only-of-type {\n",
       "        vertical-align: middle;\n",
       "    }\n",
       "\n",
       "    .dataframe tbody tr th {\n",
       "        vertical-align: top;\n",
       "    }\n",
       "\n",
       "    .dataframe thead th {\n",
       "        text-align: right;\n",
       "    }\n",
       "</style>\n",
       "<table border=\"1\" class=\"dataframe\">\n",
       "  <thead>\n",
       "    <tr style=\"text-align: right;\">\n",
       "      <th></th>\n",
       "      <th>id</th>\n",
       "      <th>phrase</th>\n",
       "      <th>sentiment</th>\n",
       "    </tr>\n",
       "  </thead>\n",
       "  <tbody>\n",
       "    <tr>\n",
       "      <th>1</th>\n",
       "      <td>2</td>\n",
       "      <td>Terrible movie, The Matrix’s plot is so confus...</td>\n",
       "      <td>negative</td>\n",
       "    </tr>\n",
       "    <tr>\n",
       "      <th>12</th>\n",
       "      <td>13</td>\n",
       "      <td>The Matrix is fine, good action but confusing ...</td>\n",
       "      <td>neutral</td>\n",
       "    </tr>\n",
       "  </tbody>\n",
       "</table>\n",
       "</div>"
      ],
      "text/plain": [
       "    id                                             phrase sentiment\n",
       "1    2  Terrible movie, The Matrix’s plot is so confus...  negative\n",
       "12  13  The Matrix is fine, good action but confusing ...   neutral"
      ]
     },
     "execution_count": 9,
     "metadata": {},
     "output_type": "execute_result"
    }
   ],
   "source": [
    "# 📌 Step 9: Search for keywords in phrases\n",
    "# Use string matching to find reviews that mention \"confusing\"\n",
    "confusing_reviews = df[df['phrase'].str.contains(\"confusing\", case=False)]\n",
    "confusing_reviews\n"
   ]
  },
  {
   "cell_type": "code",
   "execution_count": 10,
   "id": "afb65fd4",
   "metadata": {},
   "outputs": [
    {
     "data": {
      "text/html": [
       "<div>\n",
       "<style scoped>\n",
       "    .dataframe tbody tr th:only-of-type {\n",
       "        vertical-align: middle;\n",
       "    }\n",
       "\n",
       "    .dataframe tbody tr th {\n",
       "        vertical-align: top;\n",
       "    }\n",
       "\n",
       "    .dataframe thead th {\n",
       "        text-align: right;\n",
       "    }\n",
       "</style>\n",
       "<table border=\"1\" class=\"dataframe\">\n",
       "  <thead>\n",
       "    <tr style=\"text-align: right;\">\n",
       "      <th></th>\n",
       "      <th>id</th>\n",
       "      <th>phrase</th>\n",
       "      <th>sentiment</th>\n",
       "      <th>phrase_length</th>\n",
       "    </tr>\n",
       "  </thead>\n",
       "  <tbody>\n",
       "    <tr>\n",
       "      <th>0</th>\n",
       "      <td>1</td>\n",
       "      <td>The Matrix is great, revolutionary sci-fi that...</td>\n",
       "      <td>positive</td>\n",
       "      <td>81</td>\n",
       "    </tr>\n",
       "    <tr>\n",
       "      <th>1</th>\n",
       "      <td>2</td>\n",
       "      <td>Terrible movie, The Matrix’s plot is so confus...</td>\n",
       "      <td>negative</td>\n",
       "      <td>78</td>\n",
       "    </tr>\n",
       "    <tr>\n",
       "      <th>2</th>\n",
       "      <td>3</td>\n",
       "      <td>The Matrix was okay, entertaining but not life...</td>\n",
       "      <td>neutral</td>\n",
       "      <td>64</td>\n",
       "    </tr>\n",
       "    <tr>\n",
       "      <th>3</th>\n",
       "      <td>4</td>\n",
       "      <td>Great visuals and action in The Matrix make it...</td>\n",
       "      <td>positive</td>\n",
       "      <td>75</td>\n",
       "    </tr>\n",
       "    <tr>\n",
       "      <th>4</th>\n",
       "      <td>5</td>\n",
       "      <td>Hated The Matrix; terrible pacing and a story ...</td>\n",
       "      <td>negative</td>\n",
       "      <td>74</td>\n",
       "    </tr>\n",
       "  </tbody>\n",
       "</table>\n",
       "</div>"
      ],
      "text/plain": [
       "   id                                             phrase sentiment  \\\n",
       "0   1  The Matrix is great, revolutionary sci-fi that...  positive   \n",
       "1   2  Terrible movie, The Matrix’s plot is so confus...  negative   \n",
       "2   3  The Matrix was okay, entertaining but not life...   neutral   \n",
       "3   4  Great visuals and action in The Matrix make it...  positive   \n",
       "4   5  Hated The Matrix; terrible pacing and a story ...  negative   \n",
       "\n",
       "   phrase_length  \n",
       "0             81  \n",
       "1             78  \n",
       "2             64  \n",
       "3             75  \n",
       "4             74  "
      ]
     },
     "execution_count": 10,
     "metadata": {},
     "output_type": "execute_result"
    }
   ],
   "source": [
    "# 📌 Step 10: Add a new column: phrase length\n",
    "# This column stores the length of each review (in characters)\n",
    "df['phrase_length'] = df['phrase'].apply(len)\n",
    "df.head()\n"
   ]
  },
  {
   "cell_type": "code",
   "execution_count": 11,
   "id": "98ec896a",
   "metadata": {},
   "outputs": [
    {
     "data": {
      "text/plain": [
       "sentiment\n",
       "negative    61.70\n",
       "neutral     53.90\n",
       "positive    63.95\n",
       "Name: phrase_length, dtype: float64"
      ]
     },
     "execution_count": 11,
     "metadata": {},
     "output_type": "execute_result"
    }
   ],
   "source": [
    "# 📌 Step 11: Compare average phrase length by sentiment\n",
    "df.groupby('sentiment')['phrase_length'].mean()\n"
   ]
  },
  {
   "cell_type": "code",
   "execution_count": 12,
   "id": "296dc3d1",
   "metadata": {},
   "outputs": [],
   "source": [
    "# 📌 Step 12: Export the modified DataFrame to a new CSV\n",
    "# You can save your processed data for further analysis or visualization.\n",
    "# df.to_csv(\"matrix_reviews_with_length.csv\", index=False)\n"
   ]
  },
  {
   "cell_type": "code",
   "execution_count": null,
   "id": "1d746cf1",
   "metadata": {},
   "outputs": [],
   "source": []
  }
 ],
 "metadata": {
  "kernelspec": {
   "display_name": "Python 3",
   "language": "python",
   "name": "python3"
  },
  "language_info": {
   "codemirror_mode": {
    "name": "ipython",
    "version": 3
   },
   "file_extension": ".py",
   "mimetype": "text/x-python",
   "name": "python",
   "nbconvert_exporter": "python",
   "pygments_lexer": "ipython3",
   "version": "3.13.2"
  }
 },
 "nbformat": 4,
 "nbformat_minor": 5
}
