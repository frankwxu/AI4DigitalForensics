{
 "cells": [
  {
   "cell_type": "code",
   "execution_count": 6,
   "id": "d13e10c0",
   "metadata": {},
   "outputs": [],
   "source": [
    "# Import required libraries\n",
    "import torch\n",
    "import torch.nn as nn\n",
    "import torch.optim as optim\n",
    "from transformers import AutoTokenizer, AutoModel"
   ]
  },
  {
   "cell_type": "markdown",
   "id": "98233002",
   "metadata": {},
   "source": [
    "### Two sentences have different number of tokens"
   ]
  },
  {
   "cell_type": "code",
   "execution_count": 18,
   "id": "d577d7c3",
   "metadata": {},
   "outputs": [
    {
     "data": {
      "text/plain": [
       "['The Matrix is great', 'A terrible movie']"
      ]
     },
     "execution_count": 18,
     "metadata": {},
     "output_type": "execute_result"
    }
   ],
   "source": [
    "review1=\"The Matrix is great\" # 5 tokens\n",
    "review2=\"A terrible movie\" # 4 tokens\n",
    "\n",
    "reviews = [review1, review2]\n",
    "reviews"
   ]
  },
  {
   "cell_type": "markdown",
   "id": "d5c81860",
   "metadata": {},
   "source": [
    "### BERT processes inputs to tokens"
   ]
  },
  {
   "cell_type": "code",
   "execution_count": null,
   "id": "22c86600",
   "metadata": {},
   "outputs": [],
   "source": [
    "# Initialize BERT tokenizer and model (frozen)\n",
    "tokenizer = AutoTokenizer.from_pretrained('bert-base-uncased')  # Load tokenizer\n",
    "\n",
    "# Batch all phrases together\n",
    "inputs = tokenizer(\n",
    "    reviews,  # all texts at once\n",
    "    return_tensors=\"pt\",\n",
    "    padding=True,\n",
    "    truncation=True,\n",
    "    max_length=128\n",
    ")"
   ]
  },
  {
   "cell_type": "code",
   "execution_count": 9,
   "id": "6749e737",
   "metadata": {},
   "outputs": [
    {
     "data": {
      "text/plain": [
       "transformers.tokenization_utils_base.BatchEncoding"
      ]
     },
     "execution_count": 9,
     "metadata": {},
     "output_type": "execute_result"
    }
   ],
   "source": [
    "type(inputs)"
   ]
  },
  {
   "cell_type": "code",
   "execution_count": 11,
   "id": "15c53ac7",
   "metadata": {},
   "outputs": [
    {
     "name": "stdout",
     "output_type": "stream",
     "text": [
      "torch.Size([2, 6])\n",
      "torch.Size([2, 6])\n",
      "torch.Size([2, 6])\n"
     ]
    }
   ],
   "source": [
    "print(inputs['input_ids'].shape)         # torch.Size([batch_size, seq_len])\n",
    "print(inputs['attention_mask'].shape)    # torch.Size([batch_size, seq_len])\n",
    "print(inputs['token_type_ids'].shape)    # torch.Size([batch_size, seq_len])"
   ]
  },
  {
   "cell_type": "markdown",
   "id": "a132bb7a",
   "metadata": {},
   "source": [
    "### padding when two sentences have different len"
   ]
  },
  {
   "cell_type": "code",
   "execution_count": 17,
   "id": "939aee8a",
   "metadata": {},
   "outputs": [
    {
     "name": "stdout",
     "output_type": "stream",
     "text": [
      "tensor([ 101, 1037, 6659, 3185,  102,    0])\n",
      "['[CLS]', 'a', 'terrible', 'movie', '[SEP]', '[PAD]']\n"
     ]
    }
   ],
   "source": [
    "print(inputs['input_ids'][1]) # Token IDs\n",
    "print(tokenizer.convert_ids_to_tokens(inputs['input_ids'][1])) # Tokens"
   ]
  },
  {
   "cell_type": "code",
   "execution_count": null,
   "id": "b3e54773",
   "metadata": {},
   "outputs": [],
   "source": []
  }
 ],
 "metadata": {
  "kernelspec": {
   "display_name": "Python 3",
   "language": "python",
   "name": "python3"
  },
  "language_info": {
   "codemirror_mode": {
    "name": "ipython",
    "version": 3
   },
   "file_extension": ".py",
   "mimetype": "text/x-python",
   "name": "python",
   "nbconvert_exporter": "python",
   "pygments_lexer": "ipython3",
   "version": "3.13.2"
  }
 },
 "nbformat": 4,
 "nbformat_minor": 5
}
