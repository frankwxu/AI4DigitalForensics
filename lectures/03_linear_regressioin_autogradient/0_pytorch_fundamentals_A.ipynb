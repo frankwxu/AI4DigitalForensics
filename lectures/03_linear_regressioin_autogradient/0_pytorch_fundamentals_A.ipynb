{
 "cells": [
  {
   "cell_type": "markdown",
   "id": "41d7e9ff",
   "metadata": {},
   "source": [
    "## PyTorch Fundamentals Part A\n",
    "\n",
    "- A PyTorch tensor is a multi-dimensional array (0D to nD) that contains elements of a single data type (e.g., integers, floats). \n",
    "- Tensors are used to represent scalars, vectors, matrices, or higher-dimensional data and are optimized for mathematical operations, automatic differentiation, and GPU computation"
   ]
  },
  {
   "cell_type": "code",
   "execution_count": 43,
   "id": "739c5173",
   "metadata": {},
   "outputs": [
    {
     "data": {
      "text/plain": [
       "'2.6.0+cu126'"
      ]
     },
     "execution_count": 43,
     "metadata": {},
     "output_type": "execute_result"
    }
   ],
   "source": [
    "import torch\n",
    "torch.__version__"
   ]
  },
  {
   "cell_type": "markdown",
   "id": "75acf7d8",
   "metadata": {},
   "source": [
    "### Multi-dimensional\n",
    "\n",
    "![Tensor shape](https://cdn-images-1.medium.com/max/2000/1*_D5ZvufDS38WkhK9rK32hQ.jpeg)"
   ]
  },
  {
   "cell_type": "code",
   "execution_count": 44,
   "id": "0e82be1e",
   "metadata": {},
   "outputs": [
    {
     "data": {
      "text/plain": [
       "tensor(5)"
      ]
     },
     "execution_count": 44,
     "metadata": {},
     "output_type": "execute_result"
    }
   ],
   "source": [
    "# 0D: Scalar \n",
    "x= torch.tensor(5)\n",
    "x"
   ]
  },
  {
   "cell_type": "code",
   "execution_count": 45,
   "id": "7c239759",
   "metadata": {},
   "outputs": [
    {
     "data": {
      "text/plain": [
       "0"
      ]
     },
     "execution_count": 45,
     "metadata": {},
     "output_type": "execute_result"
    }
   ],
   "source": [
    "x.ndim"
   ]
  },
  {
   "cell_type": "markdown",
   "id": "24ec3101",
   "metadata": {},
   "source": [
    "![shapes](https://velog.velcdn.com/images/sangyun/post/ad3a0dfa-84cd-4b29-9a4e-9768b19c6df4/image.png)\n",
    "![shapes](https://velog.velcdn.com/images/sangyun/post/accfee47-0d44-401c-a6b9-c4fff5822dcf/image.png)"
   ]
  },
  {
   "cell_type": "code",
   "execution_count": 46,
   "id": "d176548d",
   "metadata": {},
   "outputs": [
    {
     "data": {
      "text/plain": [
       "torch.Size([])"
      ]
     },
     "execution_count": 46,
     "metadata": {},
     "output_type": "execute_result"
    }
   ],
   "source": [
    "x.shape"
   ]
  },
  {
   "cell_type": "code",
   "execution_count": 47,
   "id": "07e03145",
   "metadata": {},
   "outputs": [
    {
     "data": {
      "text/plain": [
       "5"
      ]
     },
     "execution_count": 47,
     "metadata": {},
     "output_type": "execute_result"
    }
   ],
   "source": [
    "x.item()"
   ]
  },
  {
   "cell_type": "code",
   "execution_count": 48,
   "id": "41fcc46e",
   "metadata": {},
   "outputs": [
    {
     "data": {
      "text/plain": [
       "tensor([1, 2, 3])"
      ]
     },
     "execution_count": 48,
     "metadata": {},
     "output_type": "execute_result"
    }
   ],
   "source": [
    "# 1D: Vector \n",
    "x=torch.tensor([1, 2, 3])\n",
    "x"
   ]
  },
  {
   "cell_type": "code",
   "execution_count": 49,
   "id": "f9894c37",
   "metadata": {},
   "outputs": [
    {
     "data": {
      "text/plain": [
       "1"
      ]
     },
     "execution_count": 49,
     "metadata": {},
     "output_type": "execute_result"
    }
   ],
   "source": [
    "x.ndim"
   ]
  },
  {
   "cell_type": "code",
   "execution_count": 50,
   "id": "7dc166eb",
   "metadata": {},
   "outputs": [
    {
     "data": {
      "text/plain": [
       "torch.Size([3])"
      ]
     },
     "execution_count": 50,
     "metadata": {},
     "output_type": "execute_result"
    }
   ],
   "source": [
    "# shape is a tuple, although looks like a list\n",
    "x.shape"
   ]
  },
  {
   "cell_type": "code",
   "execution_count": 51,
   "id": "2581817b",
   "metadata": {},
   "outputs": [
    {
     "data": {
      "text/plain": [
       "tensor([[ 7,  8],\n",
       "        [ 9, 10]])"
      ]
     },
     "execution_count": 51,
     "metadata": {},
     "output_type": "execute_result"
    }
   ],
   "source": [
    "# 2D Matrix\n",
    "MATRIX = torch.tensor([[7, 8], \n",
    "                       [9, 10]])\n",
    "MATRIX"
   ]
  },
  {
   "cell_type": "code",
   "execution_count": 52,
   "id": "46961042",
   "metadata": {},
   "outputs": [
    {
     "data": {
      "text/plain": [
       "2"
      ]
     },
     "execution_count": 52,
     "metadata": {},
     "output_type": "execute_result"
    }
   ],
   "source": [
    "MATRIX.ndim"
   ]
  },
  {
   "cell_type": "code",
   "execution_count": 53,
   "id": "9669fda8",
   "metadata": {},
   "outputs": [
    {
     "data": {
      "text/plain": [
       "torch.Size([2, 2])"
      ]
     },
     "execution_count": 53,
     "metadata": {},
     "output_type": "execute_result"
    }
   ],
   "source": [
    "MATRIX.shape"
   ]
  },
  {
   "cell_type": "code",
   "execution_count": 54,
   "id": "15297945",
   "metadata": {},
   "outputs": [
    {
     "data": {
      "text/plain": [
       "tensor([[[1, 2, 3],\n",
       "         [3, 6, 9],\n",
       "         [2, 4, 5]]])"
      ]
     },
     "execution_count": 54,
     "metadata": {},
     "output_type": "execute_result"
    }
   ],
   "source": [
    "# Tensor\n",
    "TENSOR = torch.tensor([[[1, 2, 3],\n",
    "                        [3, 6, 9],\n",
    "                        [2, 4, 5]]])\n",
    "TENSOR"
   ]
  },
  {
   "cell_type": "code",
   "execution_count": 55,
   "id": "5bbed071",
   "metadata": {},
   "outputs": [
    {
     "data": {
      "text/plain": [
       "3"
      ]
     },
     "execution_count": 55,
     "metadata": {},
     "output_type": "execute_result"
    }
   ],
   "source": [
    "TENSOR.ndim"
   ]
  },
  {
   "cell_type": "code",
   "execution_count": 56,
   "id": "483d25c7",
   "metadata": {},
   "outputs": [
    {
     "data": {
      "text/plain": [
       "torch.Size([1, 3, 3])"
      ]
     },
     "execution_count": 56,
     "metadata": {},
     "output_type": "execute_result"
    }
   ],
   "source": [
    "TENSOR.shape"
   ]
  },
  {
   "cell_type": "code",
   "execution_count": 57,
   "id": "c4e76ef2",
   "metadata": {},
   "outputs": [
    {
     "data": {
      "text/plain": [
       "torch.Size([1, 3, 3])"
      ]
     },
     "execution_count": 57,
     "metadata": {},
     "output_type": "execute_result"
    }
   ],
   "source": [
    "TENSOR.size()"
   ]
  },
  {
   "cell_type": "code",
   "execution_count": 58,
   "id": "b56abf50",
   "metadata": {},
   "outputs": [
    {
     "data": {
      "text/plain": [
       "tensor([[1, 2],\n",
       "        [3, 3],\n",
       "        [6, 9]])"
      ]
     },
     "execution_count": 58,
     "metadata": {},
     "output_type": "execute_result"
    }
   ],
   "source": [
    "torch.tensor([[[1, 2, 3],\n",
    "                        [3, 6, 9]]]).reshape(3,2)"
   ]
  },
  {
   "cell_type": "code",
   "execution_count": 59,
   "id": "cdd39ae8",
   "metadata": {},
   "outputs": [
    {
     "data": {
      "text/plain": [
       "tensor([[1],\n",
       "        [2],\n",
       "        [3],\n",
       "        [3],\n",
       "        [6],\n",
       "        [9]])"
      ]
     },
     "execution_count": 59,
     "metadata": {},
     "output_type": "execute_result"
    }
   ],
   "source": [
    "torch.tensor([[[1, 2, 3],\n",
    "                        [3, 6, 9]]]).reshape(-1,1)"
   ]
  },
  {
   "cell_type": "code",
   "execution_count": 60,
   "id": "adf1ab41",
   "metadata": {},
   "outputs": [
    {
     "data": {
      "text/plain": [
       "tensor([[[1., 2., 3.],\n",
       "         [3., 6., 9.],\n",
       "         [2., 4., 5.]]])"
      ]
     },
     "execution_count": 60,
     "metadata": {},
     "output_type": "execute_result"
    }
   ],
   "source": [
    "# Tensor\n",
    "TENSOR = torch.tensor([[[1, 2, 3],\n",
    "                        [3, 6, 9],\n",
    "                        [2, 4, 5]]], dtype=torch.float32)\n",
    "TENSOR"
   ]
  },
  {
   "cell_type": "code",
   "execution_count": 61,
   "id": "a368079f",
   "metadata": {},
   "outputs": [
    {
     "data": {
      "text/plain": [
       "torch.float32"
      ]
     },
     "execution_count": 61,
     "metadata": {},
     "output_type": "execute_result"
    }
   ],
   "source": [
    "TENSOR.dtype"
   ]
  },
  {
   "cell_type": "code",
   "execution_count": 62,
   "id": "4d00ea95",
   "metadata": {},
   "outputs": [
    {
     "data": {
      "text/plain": [
       "(tensor([[0.1741, 0.5130],\n",
       "         [0.5667, 0.7953]]),\n",
       " tensor([[0.0304, 0.4022],\n",
       "         [0.2714, 0.4571]]))"
      ]
     },
     "execution_count": 62,
     "metadata": {},
     "output_type": "execute_result"
    }
   ],
   "source": [
    "y = torch.rand(2, 2)\n",
    "x = torch.rand(2, 2)\n",
    "x, y"
   ]
  },
  {
   "cell_type": "markdown",
   "id": "d7387b15",
   "metadata": {},
   "source": [
    "### Change dimensions"
   ]
  },
  {
   "cell_type": "code",
   "execution_count": 63,
   "id": "2a2b9503",
   "metadata": {},
   "outputs": [
    {
     "data": {
      "text/plain": [
       "tensor([[1],\n",
       "        [2],\n",
       "        [3]])"
      ]
     },
     "execution_count": 63,
     "metadata": {},
     "output_type": "execute_result"
    }
   ],
   "source": [
    "# dds a new dimension at the last position (-1 means \"last axis\")\n",
    "# → shape changes from (3,) to (3, 1)\n",
    "torch.tensor([1, 2, 3]).unsqueeze(-1) "
   ]
  },
  {
   "cell_type": "code",
   "execution_count": 64,
   "id": "0410ff02",
   "metadata": {},
   "outputs": [
    {
     "data": {
      "text/plain": [
       "tensor([[1, 2, 3]])"
      ]
     },
     "execution_count": 64,
     "metadata": {},
     "output_type": "execute_result"
    }
   ],
   "source": [
    "# Adds a new axis at the beginning → shape changes from (3,) to (1, 3):\n",
    "torch.tensor([1, 2, 3]).unsqueeze(0)"
   ]
  },
  {
   "cell_type": "code",
   "execution_count": 65,
   "id": "59a98657",
   "metadata": {},
   "outputs": [
    {
     "data": {
      "text/plain": [
       "tensor([1, 2, 3])"
      ]
     },
     "execution_count": 65,
     "metadata": {},
     "output_type": "execute_result"
    }
   ],
   "source": [
    "# .squeeze() removes the dimension with size 1\n",
    "# (1, 3) to (3)\n",
    "torch.tensor([[1, 2, 3]]).squeeze()"
   ]
  },
  {
   "cell_type": "code",
   "execution_count": 66,
   "id": "0abe9f66",
   "metadata": {},
   "outputs": [
    {
     "data": {
      "text/plain": [
       "tensor([1, 2, 3])"
      ]
     },
     "execution_count": 66,
     "metadata": {},
     "output_type": "execute_result"
    }
   ],
   "source": [
    "# # .squeeze() removes the dimension with size 1\n",
    "# (3,1) to (3)\n",
    "torch.tensor([[1], [2], [3]]).squeeze()"
   ]
  },
  {
   "cell_type": "markdown",
   "id": "878f60f8",
   "metadata": {},
   "source": [
    "Exapnd via broadcasting \n",
    "- a has shape (3, 1)\n",
    "- b has shape (3, 4)\n",
    "- a.expand_as(b) expands a to (3, 4) by repeating values along dimension 1"
   ]
  },
  {
   "cell_type": "code",
   "execution_count": 67,
   "id": "9033f667",
   "metadata": {},
   "outputs": [
    {
     "name": "stdout",
     "output_type": "stream",
     "text": [
      "tensor([[1, 1, 1, 1],\n",
      "        [2, 2, 2, 2],\n",
      "        [3, 3, 3, 3]])\n",
      "torch.Size([3, 4])\n"
     ]
    }
   ],
   "source": [
    "a = torch.tensor([[1], \n",
    "                  [2], \n",
    "                  [3]])   # Shape: (3, 1)\n",
    "b = torch.zeros(3, 4)               # Shape: (3, 4)\n",
    "\n",
    "a_expanded = a.expand_as(b)\n",
    "print(a_expanded)\n",
    "print(a_expanded.shape)  # torch.Size([3, 4])"
   ]
  },
  {
   "cell_type": "markdown",
   "id": "3852bb53",
   "metadata": {},
   "source": [
    "### Slicing"
   ]
  },
  {
   "cell_type": "code",
   "execution_count": 68,
   "id": "aeed7a0a",
   "metadata": {},
   "outputs": [
    {
     "data": {
      "text/plain": [
       "tensor([1, 2])"
      ]
     },
     "execution_count": 68,
     "metadata": {},
     "output_type": "execute_result"
    }
   ],
   "source": [
    "x=torch.tensor([1, 2, 3, 4, 5, 6])\n",
    "x[0:2]"
   ]
  },
  {
   "cell_type": "code",
   "execution_count": 69,
   "id": "721ce7eb",
   "metadata": {},
   "outputs": [
    {
     "data": {
      "text/plain": [
       "tensor([1, 2])"
      ]
     },
     "execution_count": 69,
     "metadata": {},
     "output_type": "execute_result"
    }
   ],
   "source": [
    "x=torch.tensor([1, 2, 3, 4, 5, 6])\n",
    "x[:2]"
   ]
  },
  {
   "cell_type": "code",
   "execution_count": 70,
   "id": "6423f4d2",
   "metadata": {},
   "outputs": [
    {
     "data": {
      "text/plain": [
       "tensor(6)"
      ]
     },
     "execution_count": 70,
     "metadata": {},
     "output_type": "execute_result"
    }
   ],
   "source": [
    "x=torch.tensor([1, 2, 3, 4, 5, 6])\n",
    "x[-1]"
   ]
  },
  {
   "cell_type": "code",
   "execution_count": 71,
   "id": "0125386f",
   "metadata": {},
   "outputs": [
    {
     "data": {
      "text/plain": [
       "tensor([3, 4, 5, 6])"
      ]
     },
     "execution_count": 71,
     "metadata": {},
     "output_type": "execute_result"
    }
   ],
   "source": [
    "x=torch.tensor([1, 2, 3, 4, 5, 6])\n",
    "x[2:]"
   ]
  },
  {
   "cell_type": "code",
   "execution_count": 72,
   "id": "97373387",
   "metadata": {},
   "outputs": [
    {
     "data": {
      "text/plain": [
       "tensor([[1, 2],\n",
       "        [4, 5]])"
      ]
     },
     "execution_count": 72,
     "metadata": {},
     "output_type": "execute_result"
    }
   ],
   "source": [
    "# Example 2D tensor\n",
    "x = torch.tensor([[1, 2, 3],\n",
    "                  [4, 5, 6],\n",
    "                  [7, 8, 9]])\n",
    "\n",
    "# Syntax: x[row_slice, column_slice]\n",
    "\n",
    "# Slice the first two rows and the first two columns\n",
    "x[:2, :2]  # tensor([[1, 2],\n",
    "           #         [4, 5]])"
   ]
  },
  {
   "cell_type": "code",
   "execution_count": 73,
   "id": "bba6b1b4",
   "metadata": {},
   "outputs": [
    {
     "data": {
      "text/plain": [
       "tensor([4, 5, 6])"
      ]
     },
     "execution_count": 73,
     "metadata": {},
     "output_type": "execute_result"
    }
   ],
   "source": [
    "# Slice the second row\n",
    "x[1, :]    # tensor([4, 5, 6])"
   ]
  },
  {
   "cell_type": "code",
   "execution_count": 74,
   "id": "12a96c84",
   "metadata": {},
   "outputs": [
    {
     "data": {
      "text/plain": [
       "tensor([3, 6, 9])"
      ]
     },
     "execution_count": 74,
     "metadata": {},
     "output_type": "execute_result"
    }
   ],
   "source": [
    "# Slice the third column\n",
    "x[:, 2]    # tensor([3, 6, 9])"
   ]
  },
  {
   "cell_type": "code",
   "execution_count": 75,
   "id": "a0f73c88",
   "metadata": {},
   "outputs": [
    {
     "data": {
      "text/plain": [
       "tensor([[5, 6]])"
      ]
     },
     "execution_count": 75,
     "metadata": {},
     "output_type": "execute_result"
    }
   ],
   "source": [
    "# Example 2D tensor\n",
    "x = torch.tensor([[1, 2, 3],\n",
    "                  [4, 5, 6],\n",
    "                  [7, 8, 9]])\n",
    "\n",
    "# Get a submatrix from row 1 to 2 (exclusive of 2), and column 1 to 3\n",
    "x[1:2, 1:3]  # tensor([[5, 6]])"
   ]
  },
  {
   "cell_type": "code",
   "execution_count": 76,
   "id": "485c115b",
   "metadata": {},
   "outputs": [
    {
     "name": "stdout",
     "output_type": "stream",
     "text": [
      "1 4\n",
      "2 5\n",
      "3 6\n"
     ]
    }
   ],
   "source": [
    "# combine multiple iterables (like lists or tuples) element-wise \n",
    "# into a single iterable of tuples.\n",
    "a = torch.tensor([1, 2, 3])\n",
    "b = torch.tensor([4, 5, 6])\n",
    "\n",
    "for x, y in zip(a, b):\n",
    "    print(x.item(), y.item())"
   ]
  },
  {
   "cell_type": "markdown",
   "id": "8ebcac46",
   "metadata": {},
   "source": [
    "### cat and stack\n",
    "- torch.cat — Concatenate along an existing dimension\n",
    "- Think: Extend an axis (like adding more rows to a table).\n",
    "- Requirement: Tensors must have the same shape in all dimensions except the one you're concatenating along.\n",
    "\n",
    "![Cat](https://user-images.githubusercontent.com/111734605/235976058-d23f9b75-401c-4547-9e17-6655f3baf957.png)\n",
    "\n",
    "\n",
    "- torch.stack — Stack along a new dimension\n",
    "- Think: Create a new axis (like stacking flat sheets into a pile).\n",
    "- Requirement: Tensors must have exactly the same shape.\n",
    "\n"
   ]
  },
  {
   "cell_type": "code",
   "execution_count": 77,
   "id": "8de8b40d",
   "metadata": {},
   "outputs": [
    {
     "data": {
      "text/plain": [
       "tensor([[ 1,  2,  3],\n",
       "        [ 4,  5,  6],\n",
       "        [ 7,  8,  9],\n",
       "        [10, 11, 12]])"
      ]
     },
     "execution_count": 77,
     "metadata": {},
     "output_type": "execute_result"
    }
   ],
   "source": [
    "a = torch.tensor([[1, 2, 3],\n",
    "                 [4, 5, 6]])\n",
    "b = torch.tensor([[7, 8, 9],\n",
    "                 [10, 11, 12]])\n",
    "\n",
    "torch.cat([a, b], dim = 0)"
   ]
  },
  {
   "cell_type": "code",
   "execution_count": 78,
   "id": "7febf2dd",
   "metadata": {},
   "outputs": [
    {
     "data": {
      "text/plain": [
       "tensor([[ 1,  2,  3,  7,  8,  9],\n",
       "        [ 4,  5,  6, 10, 11, 12]])"
      ]
     },
     "execution_count": 78,
     "metadata": {},
     "output_type": "execute_result"
    }
   ],
   "source": [
    "torch.cat([a, b], dim = 1)"
   ]
  },
  {
   "cell_type": "code",
   "execution_count": 79,
   "id": "a4e5163b",
   "metadata": {},
   "outputs": [
    {
     "data": {
      "text/plain": [
       "tensor([[[ 1,  2,  3],\n",
       "         [ 4,  5,  6]],\n",
       "\n",
       "        [[ 7,  8,  9],\n",
       "         [10, 11, 12]]])"
      ]
     },
     "execution_count": 79,
     "metadata": {},
     "output_type": "execute_result"
    }
   ],
   "source": [
    "a = torch.tensor([[1, 2, 3],\n",
    "                  [4, 5, 6]])\n",
    "\n",
    "b = torch.tensor([[7, 8, 9],\n",
    "                  [10, 11, 12]])\n",
    "\n",
    "torch.stack([a, b], dim = 0)"
   ]
  },
  {
   "cell_type": "code",
   "execution_count": 80,
   "id": "ecdbf141",
   "metadata": {},
   "outputs": [
    {
     "data": {
      "text/plain": [
       "tensor([[[ 1,  2,  3],\n",
       "         [ 7,  8,  9]],\n",
       "\n",
       "        [[ 4,  5,  6],\n",
       "         [10, 11, 12]]])"
      ]
     },
     "execution_count": 80,
     "metadata": {},
     "output_type": "execute_result"
    }
   ],
   "source": [
    "# each pair of rows (from a and b) are grouped side by side along dimension 1.\n",
    "# This stacks the tensors along a new dimension (dim=0).\n",
    "torch.stack([a, b], dim = 1)"
   ]
  },
  {
   "cell_type": "code",
   "execution_count": 81,
   "id": "21e03bc6",
   "metadata": {},
   "outputs": [
    {
     "data": {
      "text/plain": [
       "tensor([[[ 1,  7],\n",
       "         [ 2,  8],\n",
       "         [ 3,  9]],\n",
       "\n",
       "        [[ 4, 10],\n",
       "         [ 5, 11],\n",
       "         [ 6, 12]]])"
      ]
     },
     "execution_count": 81,
     "metadata": {},
     "output_type": "execute_result"
    }
   ],
   "source": [
    "# This stacks along dim=2 — the last dimension, meaning the numbers from a and b are paired elementwise.\n",
    "torch.stack([a, b], dim = 2)"
   ]
  },
  {
   "cell_type": "markdown",
   "id": "a3c1d8b5",
   "metadata": {},
   "source": [
    "### sum, mean, max"
   ]
  },
  {
   "cell_type": "code",
   "execution_count": 82,
   "id": "da5391eb",
   "metadata": {},
   "outputs": [
    {
     "data": {
      "text/plain": [
       "tensor([False, False,  True,  True])"
      ]
     },
     "execution_count": 82,
     "metadata": {},
     "output_type": "execute_result"
    }
   ],
   "source": [
    "a=torch.tensor([0, 1, 1, 1])\n",
    "b=torch.tensor([1, 0, 1, 1])\n",
    "a.eq(b)"
   ]
  },
  {
   "cell_type": "code",
   "execution_count": 83,
   "id": "78ed8e4b",
   "metadata": {},
   "outputs": [
    {
     "data": {
      "text/plain": [
       "tensor(2)"
      ]
     },
     "execution_count": 83,
     "metadata": {},
     "output_type": "execute_result"
    }
   ],
   "source": [
    "# convert tensor tensor([False, False,  True,  True]) to [0, 0, 1, 1]\n",
    "a.eq(b).sum()"
   ]
  },
  {
   "cell_type": "code",
   "execution_count": 84,
   "id": "4698dc38",
   "metadata": {},
   "outputs": [
    {
     "data": {
      "text/plain": [
       "tensor(6)"
      ]
     },
     "execution_count": 84,
     "metadata": {},
     "output_type": "execute_result"
    }
   ],
   "source": [
    "torch.tensor([0, 1, 2, 3]).sum()"
   ]
  },
  {
   "cell_type": "code",
   "execution_count": 85,
   "id": "cfa1dcae",
   "metadata": {},
   "outputs": [
    {
     "data": {
      "text/plain": [
       "tensor(6)"
      ]
     },
     "execution_count": 85,
     "metadata": {},
     "output_type": "execute_result"
    }
   ],
   "source": [
    "y=torch.tensor([0, 1, 2, 3])\n",
    "torch.sum(y)"
   ]
  },
  {
   "cell_type": "code",
   "execution_count": 86,
   "id": "f27ae72f",
   "metadata": {},
   "outputs": [
    {
     "data": {
      "text/plain": [
       "tensor(3)"
      ]
     },
     "execution_count": 86,
     "metadata": {},
     "output_type": "execute_result"
    }
   ],
   "source": [
    "y=torch.tensor([0, 1, 2, 3])\n",
    "torch.max(y)"
   ]
  },
  {
   "cell_type": "code",
   "execution_count": 87,
   "id": "e10312d5",
   "metadata": {},
   "outputs": [],
   "source": [
    "test_outputs = torch.tensor([[2.5, 0.8, 1.3],  # Sample 1\n",
    "                            [0.4, 3.2, 1.9]]) # Sample 2\n",
    "max_values, max_indices = torch.max(test_outputs,1) # push alone the column"
   ]
  },
  {
   "cell_type": "code",
   "execution_count": 88,
   "id": "7f887d49",
   "metadata": {},
   "outputs": [
    {
     "data": {
      "text/plain": [
       "tensor([2.5000, 3.2000])"
      ]
     },
     "execution_count": 88,
     "metadata": {},
     "output_type": "execute_result"
    }
   ],
   "source": [
    "max_values"
   ]
  },
  {
   "cell_type": "code",
   "execution_count": 89,
   "id": "600af54b",
   "metadata": {},
   "outputs": [
    {
     "data": {
      "text/plain": [
       "tensor([0, 1])"
      ]
     },
     "execution_count": 89,
     "metadata": {},
     "output_type": "execute_result"
    }
   ],
   "source": [
    "max_indices"
   ]
  },
  {
   "cell_type": "code",
   "execution_count": 90,
   "id": "f4ce3e53",
   "metadata": {},
   "outputs": [
    {
     "data": {
      "text/plain": [
       "tensor([2., 5.])"
      ]
     },
     "execution_count": 90,
     "metadata": {},
     "output_type": "execute_result"
    }
   ],
   "source": [
    "test_outputs = torch.tensor([[1, 2, 3],  # Sample 1\n",
    "                            [4, 5, 6]], dtype=torch.float) # Sample 2\n",
    "torch.mean(test_outputs,dim=1)"
   ]
  },
  {
   "cell_type": "markdown",
   "id": "02a00747",
   "metadata": {},
   "source": [
    "### Operations"
   ]
  },
  {
   "cell_type": "code",
   "execution_count": 91,
   "id": "45267f2f",
   "metadata": {},
   "outputs": [
    {
     "data": {
      "text/plain": [
       "(tensor([[1, 2],\n",
       "         [3, 4]]),\n",
       " tensor([[5, 6],\n",
       "         [7, 8]]))"
      ]
     },
     "execution_count": 91,
     "metadata": {},
     "output_type": "execute_result"
    }
   ],
   "source": [
    "x= tensor = torch.tensor([[1, 2], \n",
    "                       [3, 4]])\n",
    "y= tensor = torch.tensor([[5, 6], \n",
    "                       [7, 8]])\n",
    "x, y"
   ]
  },
  {
   "cell_type": "code",
   "execution_count": 92,
   "id": "193a7828",
   "metadata": {},
   "outputs": [
    {
     "data": {
      "text/plain": [
       "tensor([[ 6,  8],\n",
       "        [10, 12]])"
      ]
     },
     "execution_count": 92,
     "metadata": {},
     "output_type": "execute_result"
    }
   ],
   "source": [
    "x+y"
   ]
  },
  {
   "cell_type": "code",
   "execution_count": 93,
   "id": "1ce81689",
   "metadata": {},
   "outputs": [
    {
     "data": {
      "text/plain": [
       "tensor([[ 5, 12],\n",
       "        [21, 32]])"
      ]
     },
     "execution_count": 93,
     "metadata": {},
     "output_type": "execute_result"
    }
   ],
   "source": [
    "z=x*y\n",
    "z"
   ]
  },
  {
   "cell_type": "code",
   "execution_count": 94,
   "id": "62f8cde3",
   "metadata": {},
   "outputs": [
    {
     "data": {
      "text/plain": [
       "tensor([11, 12, 13])"
      ]
     },
     "execution_count": 94,
     "metadata": {},
     "output_type": "execute_result"
    }
   ],
   "source": [
    "# Create a tensor of values and add a number to it\n",
    "# recall broadcasting rules\n",
    "tensor = torch.tensor([1, 2, 3])\n",
    "results= tensor + 10\n",
    "results"
   ]
  },
  {
   "cell_type": "code",
   "execution_count": 95,
   "id": "2098ad78",
   "metadata": {},
   "outputs": [
    {
     "data": {
      "text/plain": [
       "tensor([[1, 2, 3],\n",
       "        [4, 5, 6]])"
      ]
     },
     "execution_count": 95,
     "metadata": {},
     "output_type": "execute_result"
    }
   ],
   "source": [
    "# reshaping\n",
    "tensor = torch.tensor([1, 2, 3, 4, 5, 6])\n",
    "tensor.view(2, 3)  # Reshape to 2x2"
   ]
  },
  {
   "cell_type": "code",
   "execution_count": 96,
   "id": "883321f8",
   "metadata": {},
   "outputs": [
    {
     "data": {
      "text/plain": [
       "tensor([[1, 2],\n",
       "        [3, 4],\n",
       "        [5, 6]])"
      ]
     },
     "execution_count": 96,
     "metadata": {},
     "output_type": "execute_result"
    }
   ],
   "source": [
    "tensor.view(3, 2)  # Reshape to 3x2"
   ]
  },
  {
   "cell_type": "code",
   "execution_count": 97,
   "id": "9ceace9b",
   "metadata": {},
   "outputs": [
    {
     "data": {
      "text/plain": [
       "tensor([False,  True,  True, False,  True, False])"
      ]
     },
     "execution_count": 97,
     "metadata": {},
     "output_type": "execute_result"
    }
   ],
   "source": [
    "x = torch.tensor([0, 1, 1, 0, 1, 0])\n",
    "x == 1"
   ]
  },
  {
   "cell_type": "code",
   "execution_count": 98,
   "id": "96ea0d2f",
   "metadata": {},
   "outputs": [
    {
     "data": {
      "text/plain": [
       "tensor([ True, False,  True,  True, False, False])"
      ]
     },
     "execution_count": 98,
     "metadata": {},
     "output_type": "execute_result"
    }
   ],
   "source": [
    "y = torch.tensor([0, 1, 0, 0, 1, 1])\n",
    "y == 0"
   ]
  },
  {
   "cell_type": "code",
   "execution_count": 99,
   "id": "c1d9f060",
   "metadata": {},
   "outputs": [
    {
     "data": {
      "text/plain": [
       "tensor([False, False,  True, False, False, False])"
      ]
     },
     "execution_count": 99,
     "metadata": {},
     "output_type": "execute_result"
    }
   ],
   "source": [
    "(x == 1) & (y==0)"
   ]
  },
  {
   "cell_type": "code",
   "execution_count": 100,
   "id": "796d977f",
   "metadata": {},
   "outputs": [
    {
     "data": {
      "text/plain": [
       "tensor(1)"
      ]
     },
     "execution_count": 100,
     "metadata": {},
     "output_type": "execute_result"
    }
   ],
   "source": [
    "((x == 1) & (y==0)).sum()"
   ]
  },
  {
   "cell_type": "code",
   "execution_count": 101,
   "id": "60402427",
   "metadata": {},
   "outputs": [
    {
     "data": {
      "text/plain": [
       "tensor(1)"
      ]
     },
     "execution_count": 101,
     "metadata": {},
     "output_type": "execute_result"
    }
   ],
   "source": [
    "torch.sum(((x == 1) & (y==0)))"
   ]
  },
  {
   "cell_type": "markdown",
   "id": "9d716eb9",
   "metadata": {},
   "source": [
    "## Comparison to NumPy Arrays\n",
    "Tensors are similar to NumPy arrays but add:\n",
    "- GPU support.\n",
    "- Automatic differentiation (requires_grad).\n",
    " - Integration with PyTorch’s deep learning ecosystem."
   ]
  },
  {
   "cell_type": "code",
   "execution_count": 102,
   "id": "2a3fd4ae",
   "metadata": {},
   "outputs": [
    {
     "data": {
      "text/plain": [
       "tensor([1, 2, 3])"
      ]
     },
     "execution_count": 102,
     "metadata": {},
     "output_type": "execute_result"
    }
   ],
   "source": [
    "import numpy as np\n",
    "tensor = torch.tensor([1, 2, 3])\n",
    "tensor"
   ]
  },
  {
   "cell_type": "code",
   "execution_count": 103,
   "id": "df247bd3",
   "metadata": {},
   "outputs": [
    {
     "data": {
      "text/plain": [
       "array([1, 2, 3])"
      ]
     },
     "execution_count": 103,
     "metadata": {},
     "output_type": "execute_result"
    }
   ],
   "source": [
    "numpy_array = tensor.numpy()  # To NumPy\n",
    "numpy_array "
   ]
  },
  {
   "cell_type": "code",
   "execution_count": 104,
   "id": "9ada07ab",
   "metadata": {},
   "outputs": [
    {
     "data": {
      "text/plain": [
       "tensor([1, 2, 3])"
      ]
     },
     "execution_count": 104,
     "metadata": {},
     "output_type": "execute_result"
    }
   ],
   "source": [
    "tensor_from_numpy = torch.from_numpy(numpy_array)  # Back to tensor\n",
    "tensor_from_numpy "
   ]
  },
  {
   "cell_type": "markdown",
   "id": "350b8332",
   "metadata": {},
   "source": [
    "### Running tensors on GPUs (and making faster computations)\n"
   ]
  },
  {
   "cell_type": "code",
   "execution_count": 105,
   "id": "30c9ea9f",
   "metadata": {},
   "outputs": [
    {
     "data": {
      "text/plain": [
       "True"
      ]
     },
     "execution_count": 105,
     "metadata": {},
     "output_type": "execute_result"
    }
   ],
   "source": [
    "# Check for GPU\n",
    "import torch\n",
    "torch.cuda.is_available()"
   ]
  },
  {
   "cell_type": "code",
   "execution_count": 106,
   "id": "dd523b3e",
   "metadata": {},
   "outputs": [
    {
     "data": {
      "text/plain": [
       "'cuda'"
      ]
     },
     "execution_count": 106,
     "metadata": {},
     "output_type": "execute_result"
    }
   ],
   "source": [
    "# Set device type\n",
    "device = \"cuda\" if torch.cuda.is_available() else \"cpu\"\n",
    "device"
   ]
  },
  {
   "cell_type": "code",
   "execution_count": 107,
   "id": "11d1a029",
   "metadata": {},
   "outputs": [
    {
     "name": "stdout",
     "output_type": "stream",
     "text": [
      "tensor([1, 2, 3]) cpu\n"
     ]
    },
    {
     "data": {
      "text/plain": [
       "tensor([1, 2, 3], device='cuda:0')"
      ]
     },
     "execution_count": 107,
     "metadata": {},
     "output_type": "execute_result"
    }
   ],
   "source": [
    "# Create tensor (default on CPU)\n",
    "tensor = torch.tensor([1, 2, 3])\n",
    "\n",
    "# Tensor not on GPU\n",
    "print(tensor, tensor.device)\n",
    "\n",
    "# Move tensor to GPU (if available)\n",
    "tensor_on_gpu = tensor.to(device)\n",
    "tensor_on_gpu"
   ]
  },
  {
   "cell_type": "code",
   "execution_count": 108,
   "id": "db5249d0",
   "metadata": {},
   "outputs": [
    {
     "name": "stderr",
     "output_type": "stream",
     "text": [
      "C:\\Users\\Weife\\AppData\\Local\\Temp\\ipykernel_87744\\3540074575.py:6: UserWarning: To copy construct from a tensor, it is recommended to use sourceTensor.clone().detach() or sourceTensor.clone().detach().requires_grad_(True), rather than torch.tensor(sourceTensor).\n",
      "  y = torch.tensor(x, device=device)  # directly create a tensor on GPU\n"
     ]
    }
   ],
   "source": [
    "# by default all tensors are created on the CPU,\n",
    "# but you can also move them to the GPU (only if it's available )\n",
    "if torch.cuda.is_available():\n",
    "    device = torch.device(\"cuda\")          # a CUDA device object\n",
    "    x = torch.tensor([1, 2, 3])\n",
    "    y = torch.tensor(x, device=device)  # directly create a tensor on GPU\n",
    "    x = x.to(device)                       # or just use strings ``.to(\"cuda\")``\n",
    "    z = x + y\n",
    "    # z = z.numpy() # not possible because numpy cannot handle GPU tenors\n",
    "    # move to CPU again\n",
    "    z= z.to(\"cpu\")       # ``.to`` can also change dtype together!\n",
    "    # z = z.numpy()"
   ]
  },
  {
   "cell_type": "code",
   "execution_count": null,
   "id": "ddbdf99a",
   "metadata": {},
   "outputs": [],
   "source": []
  }
 ],
 "metadata": {
  "kernelspec": {
   "display_name": "Python 3",
   "language": "python",
   "name": "python3"
  },
  "language_info": {
   "codemirror_mode": {
    "name": "ipython",
    "version": 3
   },
   "file_extension": ".py",
   "mimetype": "text/x-python",
   "name": "python",
   "nbconvert_exporter": "python",
   "pygments_lexer": "ipython3",
   "version": "3.13.2"
  }
 },
 "nbformat": 4,
 "nbformat_minor": 5
}
